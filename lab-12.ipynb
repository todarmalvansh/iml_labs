{
 "cells": [
  {
   "cell_type": "markdown",
   "id": "9e387bd7",
   "metadata": {
    "papermill": {
     "duration": 0.002822,
     "end_time": "2023-11-05T13:22:46.953551",
     "exception": false,
     "start_time": "2023-11-05T13:22:46.950729",
     "status": "completed"
    },
    "tags": []
   },
   "source": [
    "<h1>practical-12</h1>"
   ]
  },
  {
   "cell_type": "markdown",
   "id": "263c717a",
   "metadata": {
    "papermill": {
     "duration": 0.00168,
     "end_time": "2023-11-05T13:22:46.957613",
     "exception": false,
     "start_time": "2023-11-05T13:22:46.955933",
     "status": "completed"
    },
    "tags": []
   },
   "source": [
    "**Write a Python program using Scikit-learn to print the keys, number of rows-columns, feature names and the description of the given data**"
   ]
  },
  {
   "cell_type": "code",
   "execution_count": 1,
   "id": "90e64ea3",
   "metadata": {
    "execution": {
     "iopub.execute_input": "2023-11-05T13:22:46.966433Z",
     "iopub.status.busy": "2023-11-05T13:22:46.965965Z",
     "iopub.status.idle": "2023-11-05T13:22:47.470573Z",
     "shell.execute_reply": "2023-11-05T13:22:47.469550Z"
    },
    "papermill": {
     "duration": 0.514354,
     "end_time": "2023-11-05T13:22:47.473864",
     "exception": false,
     "start_time": "2023-11-05T13:22:46.959510",
     "status": "completed"
    },
    "tags": []
   },
   "outputs": [
    {
     "name": "stdout",
     "output_type": "stream",
     "text": [
      "\n",
      "Keys of Stock dataset:\n",
      "Index(['Date', 'Open', 'High', 'Low', 'Close', 'Adj Close', 'Volume'], dtype='object')\n",
      "\n",
      "Number of rows and columns of Stock dataset:\n",
      "(127, 7)\n"
     ]
    }
   ],
   "source": [
    "'''\n",
    "Name: Todarmal vansh Rajeshbhai\n",
    "Enrollment: 216270307037\n",
    "'''\n",
    "import pandas as pd\n",
    "iris_data = pd.read_csv('../input/stock-csv/stock.csv')\n",
    "print(\"\\nKeys of Stock dataset:\")\n",
    "print(iris_data.keys())\n",
    "print(\"\\nNumber of rows and columns of Stock dataset:\")\n",
    "print(iris_data.shape)\n"
   ]
  }
 ],
 "metadata": {
  "kernelspec": {
   "display_name": "Python 3",
   "language": "python",
   "name": "python3"
  },
  "language_info": {
   "codemirror_mode": {
    "name": "ipython",
    "version": 3
   },
   "file_extension": ".py",
   "mimetype": "text/x-python",
   "name": "python",
   "nbconvert_exporter": "python",
   "pygments_lexer": "ipython3",
   "version": "3.10.12"
  },
  "papermill": {
   "default_parameters": {},
   "duration": 4.999173,
   "end_time": "2023-11-05T13:22:48.099906",
   "environment_variables": {},
   "exception": null,
   "input_path": "__notebook__.ipynb",
   "output_path": "__notebook__.ipynb",
   "parameters": {},
   "start_time": "2023-11-05T13:22:43.100733",
   "version": "2.4.0"
  }
 },
 "nbformat": 4,
 "nbformat_minor": 5
}
