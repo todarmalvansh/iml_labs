{
 "cells": [
  {
   "cell_type": "markdown",
   "id": "051245e8",
   "metadata": {
    "papermill": {
     "duration": 0.002036,
     "end_time": "2023-10-20T07:08:41.152086",
     "exception": false,
     "start_time": "2023-10-20T07:08:41.150050",
     "status": "completed"
    },
    "tags": []
   },
   "source": [
    "<h1>practical 11</h1>"
   ]
  },
  {
   "cell_type": "markdown",
   "id": "43060cb7",
   "metadata": {
    "papermill": {
     "duration": 0.00126,
     "end_time": "2023-10-20T07:08:41.155135",
     "exception": false,
     "start_time": "2023-10-20T07:08:41.153875",
     "status": "completed"
    },
    "tags": []
   },
   "source": [
    "**1) Write a Pandas program to filter all columns where all entries present, check which rows and columns has a NaN and finally drop rows with any NaNs from the given dataset**"
   ]
  },
  {
   "cell_type": "code",
   "execution_count": 1,
   "id": "eb461a6a",
   "metadata": {
    "execution": {
     "iopub.execute_input": "2023-10-20T07:08:41.161495Z",
     "iopub.status.busy": "2023-10-20T07:08:41.161131Z",
     "iopub.status.idle": "2023-10-20T07:08:41.566787Z",
     "shell.execute_reply": "2023-10-20T07:08:41.565809Z"
    },
    "papermill": {
     "duration": 0.414554,
     "end_time": "2023-10-20T07:08:41.571159",
     "exception": false,
     "start_time": "2023-10-20T07:08:41.156605",
     "status": "completed"
    },
    "tags": []
   },
   "outputs": [
    {
     "name": "stdout",
     "output_type": "stream",
     "text": [
      "Dataset with all entries present : \n",
      "    Duration  Pulse  Maxpulse\n",
      "0         60    110       130\n",
      "1         60    117       145\n",
      "2         60    103       135\n",
      "3         45    109       175\n",
      "4         45    117       148\n",
      "5         60    102       127\n",
      "6         60    110       136\n",
      "7        450    104       134\n",
      "8         30    109       133\n",
      "9         60     98       124\n",
      "10        60    103       147\n",
      "11        60    100       120\n",
      "12        60    100       120\n",
      "13        60    106       128\n",
      "14        60    104       132\n",
      "15        60     98       123\n",
      "16        60     98       120\n",
      "17        60    100       120\n",
      "18        45     90       112\n",
      "19        60    103       123\n",
      "20        45     97       125\n",
      "21        60    108       131\n",
      "22        45    100       119\n",
      "23        60    130       101\n",
      "24        45    105       132\n",
      "25        60    102       126\n",
      "26        60    100       120\n",
      "27        60     92       118\n",
      "28        60    103       132\n",
      "29        60    100       132\n",
      "30        60    102       129\n",
      "31        60     92       115\n",
      "\n",
      "\n",
      "Dataset with row having NaN : \n",
      "            Date  Calories\n",
      "0   '2020/12/01'     409.1\n",
      "1   '2020/12/02'     479.0\n",
      "2   '2020/12/03'     340.0\n",
      "3   '2020/12/04'     282.4\n",
      "4   '2020/12/05'     406.0\n",
      "5   '2020/12/06'     300.0\n",
      "6   '2020/12/07'     374.0\n",
      "7   '2020/12/08'     253.3\n",
      "8   '2020/12/09'     195.1\n",
      "9   '2020/12/10'     269.0\n",
      "10  '2020/12/11'     329.3\n",
      "11  '2020/12/12'     250.7\n",
      "12  '2020/12/12'     250.7\n",
      "13  '2020/12/13'     345.3\n",
      "14  '2020/12/14'     379.3\n",
      "15  '2020/12/15'     275.0\n",
      "16  '2020/12/16'     215.2\n",
      "17  '2020/12/17'     300.0\n",
      "18  '2020/12/18'       NaN\n",
      "19  '2020/12/19'     323.0\n",
      "20  '2020/12/20'     243.0\n",
      "21  '2020/12/21'     364.2\n",
      "22           NaN     282.0\n",
      "23  '2020/12/23'     300.0\n",
      "24  '2020/12/24'     246.0\n",
      "25  '2020/12/25'     334.5\n",
      "26      20201226     250.0\n",
      "27  '2020/12/27'     241.0\n",
      "28  '2020/12/28'       NaN\n",
      "29  '2020/12/29'     280.0\n",
      "30  '2020/12/30'     380.3\n",
      "31  '2020/12/31'     243.0\n",
      "\n",
      "\n",
      "Dataset with droped NaN : \n",
      "    Duration          Date  Pulse  Maxpulse  Calories\n",
      "0         60  '2020/12/01'    110       130     409.1\n",
      "1         60  '2020/12/02'    117       145     479.0\n",
      "2         60  '2020/12/03'    103       135     340.0\n",
      "3         45  '2020/12/04'    109       175     282.4\n",
      "4         45  '2020/12/05'    117       148     406.0\n",
      "5         60  '2020/12/06'    102       127     300.0\n",
      "6         60  '2020/12/07'    110       136     374.0\n",
      "7        450  '2020/12/08'    104       134     253.3\n",
      "8         30  '2020/12/09'    109       133     195.1\n",
      "9         60  '2020/12/10'     98       124     269.0\n",
      "10        60  '2020/12/11'    103       147     329.3\n",
      "11        60  '2020/12/12'    100       120     250.7\n",
      "12        60  '2020/12/12'    100       120     250.7\n",
      "13        60  '2020/12/13'    106       128     345.3\n",
      "14        60  '2020/12/14'    104       132     379.3\n",
      "15        60  '2020/12/15'     98       123     275.0\n",
      "16        60  '2020/12/16'     98       120     215.2\n",
      "17        60  '2020/12/17'    100       120     300.0\n",
      "19        60  '2020/12/19'    103       123     323.0\n",
      "20        45  '2020/12/20'     97       125     243.0\n",
      "21        60  '2020/12/21'    108       131     364.2\n",
      "23        60  '2020/12/23'    130       101     300.0\n",
      "24        45  '2020/12/24'    105       132     246.0\n",
      "25        60  '2020/12/25'    102       126     334.5\n",
      "26        60      20201226    100       120     250.0\n",
      "27        60  '2020/12/27'     92       118     241.0\n",
      "29        60  '2020/12/29'    100       132     280.0\n",
      "30        60  '2020/12/30'    102       129     380.3\n",
      "31        60  '2020/12/31'     92       115     243.0\n",
      "\n",
      "\n"
     ]
    }
   ],
   "source": [
    " '''\n",
    "Name: todarmal vansh rajeshbhai\n",
    "Enrollment: 216270307037\n",
    "'''\n",
    "import numpy as np\n",
    "import pandas as pd\n",
    "\n",
    "dataset = pd.read_csv('../input/wrong-data/wrong_data.csv')\n",
    "\n",
    "\n",
    "print(\"Dataset with all entries present : \\n\",dataset.loc[:,dataset.notna().all()],sep=\"\",end=\"\\n\\n\\n\")\n",
    "\n",
    "print(\"Dataset with row having NaN : \\n\",dataset.loc[:,dataset.isna().any()],sep=\"\",end=\"\\n\\n\\n\")\n",
    "\n",
    "print(\"Dataset with droped NaN : \\n\",dataset.dropna(how=\"any\"),sep=\"\",end=\"\\n\\n\\n\")"
   ]
  },
  {
   "cell_type": "code",
   "execution_count": null,
   "id": "348ff85e",
   "metadata": {
    "papermill": {
     "duration": 0.001446,
     "end_time": "2023-10-20T07:08:41.574550",
     "exception": false,
     "start_time": "2023-10-20T07:08:41.573104",
     "status": "completed"
    },
    "tags": []
   },
   "outputs": [],
   "source": []
  }
 ],
 "metadata": {
  "kernelspec": {
   "display_name": "Python 3",
   "language": "python",
   "name": "python3"
  },
  "language_info": {
   "codemirror_mode": {
    "name": "ipython",
    "version": 3
   },
   "file_extension": ".py",
   "mimetype": "text/x-python",
   "name": "python",
   "nbconvert_exporter": "python",
   "pygments_lexer": "ipython3",
   "version": "3.10.12"
  },
  "papermill": {
   "default_parameters": {},
   "duration": 3.9191,
   "end_time": "2023-10-20T07:08:41.994920",
   "environment_variables": {},
   "exception": null,
   "input_path": "__notebook__.ipynb",
   "output_path": "__notebook__.ipynb",
   "parameters": {},
   "start_time": "2023-10-20T07:08:38.075820",
   "version": "2.4.0"
  }
 },
 "nbformat": 4,
 "nbformat_minor": 5
}
