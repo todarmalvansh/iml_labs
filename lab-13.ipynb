{
 "cells": [
  {
   "cell_type": "markdown",
   "id": "e7e71bb9",
   "metadata": {
    "papermill": {
     "duration": 0.001896,
     "end_time": "2023-11-05T13:42:46.861786",
     "exception": false,
     "start_time": "2023-11-05T13:42:46.859890",
     "status": "completed"
    },
    "tags": []
   },
   "source": [
    "<h1>Practical 13</h1>"
   ]
  },
  {
   "cell_type": "markdown",
   "id": "8a6af2de",
   "metadata": {
    "papermill": {
     "duration": 0.001136,
     "end_time": "2023-11-05T13:42:46.864454",
     "exception": false,
     "start_time": "2023-11-05T13:42:46.863318",
     "status": "completed"
    },
    "tags": []
   },
   "source": [
    "**Write a Python program to implement K-Nearest Neighbour supervised machine learning algorithm for given dataset**"
   ]
  },
  {
   "cell_type": "code",
   "execution_count": 1,
   "id": "b113de39",
   "metadata": {
    "execution": {
     "iopub.execute_input": "2023-11-05T13:42:46.870205Z",
     "iopub.status.busy": "2023-11-05T13:42:46.869859Z",
     "iopub.status.idle": "2023-11-05T13:42:49.057312Z",
     "shell.execute_reply": "2023-11-05T13:42:49.056315Z"
    },
    "papermill": {
     "duration": 2.193363,
     "end_time": "2023-11-05T13:42:49.059111",
     "exception": false,
     "start_time": "2023-11-05T13:42:46.865748",
     "status": "completed"
    },
    "tags": []
   },
   "outputs": [
    {
     "name": "stdout",
     "output_type": "stream",
     "text": [
      "Accuracy: 73.08%\n"
     ]
    },
    {
     "data": {
      "image/png": "[encoded data removed]",
      "text/plain": [
       "<Figure size 600x600 with 1 Axes>"
      ]
     },
     "metadata": {},
     "output_type": "display_data"
    }
   ],
   "source": [
    "'''\n",
    "Name: Todarmal vansh rajeshbhai\n",
    "Enrollment: 216270307037\n",
    "'''\n",
    "import pandas as pd\n",
    "from sklearn.model_selection import train_test_split\n",
    "from sklearn.neighbors import KNeighborsClassifier\n",
    "from sklearn.metrics import accuracy_score, confusion_matrix\n",
    "import matplotlib.pyplot as plt\n",
    "import seaborn as sns\n",
    "data = pd.read_csv('../input/stock-csv/stock.csv')\n",
    "data['Label'] = (data['Close'] > data['Close'].shift(1)).astype(int)\n",
    "X = data[['Open', 'High', 'Low', 'Close', 'Adj Close', 'Volume']].values\n",
    "y = data['Label'].values\n",
    "# Split the dataset into training and testing sets\n",
    "X_train, X_test, y_train, y_test = train_test_split(X, y, test_size=0.2,\n",
    "random_state=42)\n",
    "# Initialize the K-Nearest Neighbors classifier\n",
    "k = 3 # You can change the value of k as needed\n",
    "knn = KNeighborsClassifier(n_neighbors=k)\n",
    "# Fit the model to the training data\n",
    "knn.fit(X_train, y_train)\n",
    "# Make predictions on the test data\n",
    "y_pred = knn.predict(X_test)\n",
    "# Calculate the accuracy of the model\n",
    "accuracy = accuracy_score(y_test, y_pred)\n",
    "print(f'Accuracy: {accuracy * 100:.2f}%')\n",
    "# Create a confusion matrix\n",
    "conf_matrix = confusion_matrix(y_test, y_pred)\n",
    "# Plot the confusion matrix\n",
    "plt.figure(figsize=(6, 6))\n",
    "sns.heatmap(conf_matrix, annot=True, fmt='d', cmap='Blues', cbar=False)\n",
    "plt.xlabel('Predicted')\n",
    "plt.ylabel('Actual')\n",
    "plt.title('Confusion Matrix')\n",
    "plt.show()"
   ]
  },
  {
   "cell_type": "code",
   "execution_count": null,
   "id": "82ec4936",
   "metadata": {
    "papermill": {
     "duration": 0.001458,
     "end_time": "2023-11-05T13:42:49.062345",
     "exception": false,
     "start_time": "2023-11-05T13:42:49.060887",
     "status": "completed"
    },
    "tags": []
   },
   "outputs": [],
   "source": []
  }
 ],
 "metadata": {
  "kernelspec": {
   "display_name": "Python 3",
   "language": "python",
   "name": "python3"
  },
  "language_info": {
   "codemirror_mode": {
    "name": "ipython",
    "version": 3
   },
   "file_extension": ".py",
   "mimetype": "text/x-python",
   "name": "python",
   "nbconvert_exporter": "python",
   "pygments_lexer": "ipython3",
   "version": "3.10.12"
  },
  "papermill": {
   "default_parameters": {},
   "duration": 5.368714,
   "end_time": "2023-11-05T13:42:49.582810",
   "environment_variables": {},
   "exception": null,
   "input_path": "__notebook__.ipynb",
   "output_path": "__notebook__.ipynb",
   "parameters": {},
   "start_time": "2023-11-05T13:42:44.214096",
   "version": "2.4.0"
  }
 },
 "nbformat": 4,
 "nbformat_minor": 5
}
