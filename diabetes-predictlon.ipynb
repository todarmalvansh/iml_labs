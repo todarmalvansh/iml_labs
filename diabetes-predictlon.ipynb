{
 "cells": [
  {
   "cell_type": "markdown",
   "id": "f26d918f",
   "metadata": {
    "papermill": {
     "duration": 0.012522,
     "end_time": "2023-11-05T14:05:44.519253",
     "exception": false,
     "start_time": "2023-11-05T14:05:44.506731",
     "status": "completed"
    },
    "tags": []
   },
   "source": [
    "<h1> Diabetes prediction with Logistlc regression</h1>"
   ]
  },
  {
   "cell_type": "code",
   "execution_count": 1,
   "id": "857e418f",
   "metadata": {
    "_cell_guid": "b1076dfc-b9ad-4769-8c92-a6c4dae69d19",
    "_uuid": "8f2839f25d086af736a60e9eeb907d3b93b6e0e5",
    "execution": {
     "iopub.execute_input": "2023-11-05T14:05:44.545785Z",
     "iopub.status.busy": "2023-11-05T14:05:44.545204Z",
     "iopub.status.idle": "2023-11-05T14:05:46.842906Z",
     "shell.execute_reply": "2023-11-05T14:05:46.841414Z"
    },
    "papermill": {
     "duration": 2.314538,
     "end_time": "2023-11-05T14:05:46.845975",
     "exception": false,
     "start_time": "2023-11-05T14:05:44.531437",
     "status": "completed"
    },
    "tags": []
   },
   "outputs": [],
   "source": [
    "import pandas as pd\n",
    "import numpy as np\n",
    "import seaborn as sns\n",
    "import matplotlib.pyplot as plt"
   ]
  },
  {
   "cell_type": "code",
   "execution_count": 2,
   "id": "2172ce30",
   "metadata": {
    "execution": {
     "iopub.execute_input": "2023-11-05T14:05:46.872866Z",
     "iopub.status.busy": "2023-11-05T14:05:46.871978Z",
     "iopub.status.idle": "2023-11-05T14:05:46.897634Z",
     "shell.execute_reply": "2023-11-05T14:05:46.896618Z"
    },
    "papermill": {
     "duration": 0.042583,
     "end_time": "2023-11-05T14:05:46.900667",
     "exception": false,
     "start_time": "2023-11-05T14:05:46.858084",
     "status": "completed"
    },
    "tags": []
   },
   "outputs": [],
   "source": [
    "df = pd. read_csv('../input/pima-indians-diabetes-database/diabetes.csv')"
   ]
  },
  {
   "cell_type": "code",
   "execution_count": 3,
   "id": "1473db67",
   "metadata": {
    "execution": {
     "iopub.execute_input": "2023-11-05T14:05:46.928416Z",
     "iopub.status.busy": "2023-11-05T14:05:46.926842Z",
     "iopub.status.idle": "2023-11-05T14:05:46.958755Z",
     "shell.execute_reply": "2023-11-05T14:05:46.957353Z"
    },
    "papermill": {
     "duration": 0.049027,
     "end_time": "2023-11-05T14:05:46.962088",
     "exception": false,
     "start_time": "2023-11-05T14:05:46.913061",
     "status": "completed"
    },
    "tags": []
   },
   "outputs": [
    {
     "data": {
      "text/html": [
       "<div>\n",
       "<style scoped>\n",
       "    .dataframe tbody tr th:only-of-type {\n",
       "        vertical-align: middle;\n",
       "    }\n",
       "\n",
       "    .dataframe tbody tr th {\n",
       "        vertical-align: top;\n",
       "    }\n",
       "\n",
       "    .dataframe thead th {\n",
       "        text-align: right;\n",
       "    }\n",
       "</style>\n",
       "<table border=\"1\" class=\"dataframe\">\n",
       "  <thead>\n",
       "    <tr style=\"text-align: right;\">\n",
       "      <th></th>\n",
       "      <th>Pregnancies</th>\n",
       "      <th>Glucose</th>\n",
       "      <th>BloodPressure</th>\n",
       "      <th>SkinThickness</th>\n",
       "      <th>Insulin</th>\n",
       "      <th>BMI</th>\n",
       "      <th>DiabetesPedigreeFunction</th>\n",
       "      <th>Age</th>\n",
       "      <th>Outcome</th>\n",
       "    </tr>\n",
       "  </thead>\n",
       "  <tbody>\n",
       "    <tr>\n",
       "      <th>0</th>\n",
       "      <td>6</td>\n",
       "      <td>148</td>\n",
       "      <td>72</td>\n",
       "      <td>35</td>\n",
       "      <td>0</td>\n",
       "      <td>33.6</td>\n",
       "      <td>0.627</td>\n",
       "      <td>50</td>\n",
       "      <td>1</td>\n",
       "    </tr>\n",
       "    <tr>\n",
       "      <th>1</th>\n",
       "      <td>1</td>\n",
       "      <td>85</td>\n",
       "      <td>66</td>\n",
       "      <td>29</td>\n",
       "      <td>0</td>\n",
       "      <td>26.6</td>\n",
       "      <td>0.351</td>\n",
       "      <td>31</td>\n",
       "      <td>0</td>\n",
       "    </tr>\n",
       "    <tr>\n",
       "      <th>2</th>\n",
       "      <td>8</td>\n",
       "      <td>183</td>\n",
       "      <td>64</td>\n",
       "      <td>0</td>\n",
       "      <td>0</td>\n",
       "      <td>23.3</td>\n",
       "      <td>0.672</td>\n",
       "      <td>32</td>\n",
       "      <td>1</td>\n",
       "    </tr>\n",
       "    <tr>\n",
       "      <th>3</th>\n",
       "      <td>1</td>\n",
       "      <td>89</td>\n",
       "      <td>66</td>\n",
       "      <td>23</td>\n",
       "      <td>94</td>\n",
       "      <td>28.1</td>\n",
       "      <td>0.167</td>\n",
       "      <td>21</td>\n",
       "      <td>0</td>\n",
       "    </tr>\n",
       "    <tr>\n",
       "      <th>4</th>\n",
       "      <td>0</td>\n",
       "      <td>137</td>\n",
       "      <td>40</td>\n",
       "      <td>35</td>\n",
       "      <td>168</td>\n",
       "      <td>43.1</td>\n",
       "      <td>2.288</td>\n",
       "      <td>33</td>\n",
       "      <td>1</td>\n",
       "    </tr>\n",
       "  </tbody>\n",
       "</table>\n",
       "</div>"
      ],
      "text/plain": [
       "   Pregnancies  Glucose  BloodPressure  SkinThickness  Insulin   BMI  \\\n",
       "0            6      148             72             35        0  33.6   \n",
       "1            1       85             66             29        0  26.6   \n",
       "2            8      183             64              0        0  23.3   \n",
       "3            1       89             66             23       94  28.1   \n",
       "4            0      137             40             35      168  43.1   \n",
       "\n",
       "   DiabetesPedigreeFunction  Age  Outcome  \n",
       "0                     0.627   50        1  \n",
       "1                     0.351   31        0  \n",
       "2                     0.672   32        1  \n",
       "3                     0.167   21        0  \n",
       "4                     2.288   33        1  "
      ]
     },
     "execution_count": 3,
     "metadata": {},
     "output_type": "execute_result"
    }
   ],
   "source": [
    "df.head()"
   ]
  },
  {
   "cell_type": "code",
   "execution_count": 4,
   "id": "29f1a6c7",
   "metadata": {
    "execution": {
     "iopub.execute_input": "2023-11-05T14:05:46.989099Z",
     "iopub.status.busy": "2023-11-05T14:05:46.988651Z",
     "iopub.status.idle": "2023-11-05T14:05:47.025278Z",
     "shell.execute_reply": "2023-11-05T14:05:47.023393Z"
    },
    "papermill": {
     "duration": 0.053759,
     "end_time": "2023-11-05T14:05:47.028429",
     "exception": false,
     "start_time": "2023-11-05T14:05:46.974670",
     "status": "completed"
    },
    "tags": []
   },
   "outputs": [
    {
     "name": "stdout",
     "output_type": "stream",
     "text": [
      "<class 'pandas.core.frame.DataFrame'>\n",
      "RangeIndex: 768 entries, 0 to 767\n",
      "Data columns (total 9 columns):\n",
      " #   Column                    Non-Null Count  Dtype  \n",
      "---  ------                    --------------  -----  \n",
      " 0   Pregnancies               768 non-null    int64  \n",
      " 1   Glucose                   768 non-null    int64  \n",
      " 2   BloodPressure             768 non-null    int64  \n",
      " 3   SkinThickness             768 non-null    int64  \n",
      " 4   Insulin                   768 non-null    int64  \n",
      " 5   BMI                       768 non-null    float64\n",
      " 6   DiabetesPedigreeFunction  768 non-null    float64\n",
      " 7   Age                       768 non-null    int64  \n",
      " 8   Outcome                   768 non-null    int64  \n",
      "dtypes: float64(2), int64(7)\n",
      "memory usage: 54.1 KB\n"
     ]
    }
   ],
   "source": [
    "df.info()"
   ]
  },
  {
   "cell_type": "code",
   "execution_count": 5,
   "id": "83508adb",
   "metadata": {
    "execution": {
     "iopub.execute_input": "2023-11-05T14:05:47.056202Z",
     "iopub.status.busy": "2023-11-05T14:05:47.055262Z",
     "iopub.status.idle": "2023-11-05T14:05:47.100648Z",
     "shell.execute_reply": "2023-11-05T14:05:47.099399Z"
    },
    "papermill": {
     "duration": 0.062379,
     "end_time": "2023-11-05T14:05:47.103447",
     "exception": false,
     "start_time": "2023-11-05T14:05:47.041068",
     "status": "completed"
    },
    "tags": []
   },
   "outputs": [
    {
     "data": {
      "text/html": [
       "<div>\n",
       "<style scoped>\n",
       "    .dataframe tbody tr th:only-of-type {\n",
       "        vertical-align: middle;\n",
       "    }\n",
       "\n",
       "    .dataframe tbody tr th {\n",
       "        vertical-align: top;\n",
       "    }\n",
       "\n",
       "    .dataframe thead th {\n",
       "        text-align: right;\n",
       "    }\n",
       "</style>\n",
       "<table border=\"1\" class=\"dataframe\">\n",
       "  <thead>\n",
       "    <tr style=\"text-align: right;\">\n",
       "      <th></th>\n",
       "      <th>Pregnancies</th>\n",
       "      <th>Glucose</th>\n",
       "      <th>BloodPressure</th>\n",
       "      <th>SkinThickness</th>\n",
       "      <th>Insulin</th>\n",
       "      <th>BMI</th>\n",
       "      <th>DiabetesPedigreeFunction</th>\n",
       "      <th>Age</th>\n",
       "      <th>Outcome</th>\n",
       "    </tr>\n",
       "  </thead>\n",
       "  <tbody>\n",
       "    <tr>\n",
       "      <th>count</th>\n",
       "      <td>768.000000</td>\n",
       "      <td>768.000000</td>\n",
       "      <td>768.000000</td>\n",
       "      <td>768.000000</td>\n",
       "      <td>768.000000</td>\n",
       "      <td>768.000000</td>\n",
       "      <td>768.000000</td>\n",
       "      <td>768.000000</td>\n",
       "      <td>768.000000</td>\n",
       "    </tr>\n",
       "    <tr>\n",
       "      <th>mean</th>\n",
       "      <td>3.845052</td>\n",
       "      <td>120.894531</td>\n",
       "      <td>69.105469</td>\n",
       "      <td>20.536458</td>\n",
       "      <td>79.799479</td>\n",
       "      <td>31.992578</td>\n",
       "      <td>0.471876</td>\n",
       "      <td>33.240885</td>\n",
       "      <td>0.348958</td>\n",
       "    </tr>\n",
       "    <tr>\n",
       "      <th>std</th>\n",
       "      <td>3.369578</td>\n",
       "      <td>31.972618</td>\n",
       "      <td>19.355807</td>\n",
       "      <td>15.952218</td>\n",
       "      <td>115.244002</td>\n",
       "      <td>7.884160</td>\n",
       "      <td>0.331329</td>\n",
       "      <td>11.760232</td>\n",
       "      <td>0.476951</td>\n",
       "    </tr>\n",
       "    <tr>\n",
       "      <th>min</th>\n",
       "      <td>0.000000</td>\n",
       "      <td>0.000000</td>\n",
       "      <td>0.000000</td>\n",
       "      <td>0.000000</td>\n",
       "      <td>0.000000</td>\n",
       "      <td>0.000000</td>\n",
       "      <td>0.078000</td>\n",
       "      <td>21.000000</td>\n",
       "      <td>0.000000</td>\n",
       "    </tr>\n",
       "    <tr>\n",
       "      <th>25%</th>\n",
       "      <td>1.000000</td>\n",
       "      <td>99.000000</td>\n",
       "      <td>62.000000</td>\n",
       "      <td>0.000000</td>\n",
       "      <td>0.000000</td>\n",
       "      <td>27.300000</td>\n",
       "      <td>0.243750</td>\n",
       "      <td>24.000000</td>\n",
       "      <td>0.000000</td>\n",
       "    </tr>\n",
       "    <tr>\n",
       "      <th>50%</th>\n",
       "      <td>3.000000</td>\n",
       "      <td>117.000000</td>\n",
       "      <td>72.000000</td>\n",
       "      <td>23.000000</td>\n",
       "      <td>30.500000</td>\n",
       "      <td>32.000000</td>\n",
       "      <td>0.372500</td>\n",
       "      <td>29.000000</td>\n",
       "      <td>0.000000</td>\n",
       "    </tr>\n",
       "    <tr>\n",
       "      <th>75%</th>\n",
       "      <td>6.000000</td>\n",
       "      <td>140.250000</td>\n",
       "      <td>80.000000</td>\n",
       "      <td>32.000000</td>\n",
       "      <td>127.250000</td>\n",
       "      <td>36.600000</td>\n",
       "      <td>0.626250</td>\n",
       "      <td>41.000000</td>\n",
       "      <td>1.000000</td>\n",
       "    </tr>\n",
       "    <tr>\n",
       "      <th>max</th>\n",
       "      <td>17.000000</td>\n",
       "      <td>199.000000</td>\n",
       "      <td>122.000000</td>\n",
       "      <td>99.000000</td>\n",
       "      <td>846.000000</td>\n",
       "      <td>67.100000</td>\n",
       "      <td>2.420000</td>\n",
       "      <td>81.000000</td>\n",
       "      <td>1.000000</td>\n",
       "    </tr>\n",
       "  </tbody>\n",
       "</table>\n",
       "</div>"
      ],
      "text/plain": [
       "       Pregnancies     Glucose  BloodPressure  SkinThickness     Insulin  \\\n",
       "count   768.000000  768.000000     768.000000     768.000000  768.000000   \n",
       "mean      3.845052  120.894531      69.105469      20.536458   79.799479   \n",
       "std       3.369578   31.972618      19.355807      15.952218  115.244002   \n",
       "min       0.000000    0.000000       0.000000       0.000000    0.000000   \n",
       "25%       1.000000   99.000000      62.000000       0.000000    0.000000   \n",
       "50%       3.000000  117.000000      72.000000      23.000000   30.500000   \n",
       "75%       6.000000  140.250000      80.000000      32.000000  127.250000   \n",
       "max      17.000000  199.000000     122.000000      99.000000  846.000000   \n",
       "\n",
       "              BMI  DiabetesPedigreeFunction         Age     Outcome  \n",
       "count  768.000000                768.000000  768.000000  768.000000  \n",
       "mean    31.992578                  0.471876   33.240885    0.348958  \n",
       "std      7.884160                  0.331329   11.760232    0.476951  \n",
       "min      0.000000                  0.078000   21.000000    0.000000  \n",
       "25%     27.300000                  0.243750   24.000000    0.000000  \n",
       "50%     32.000000                  0.372500   29.000000    0.000000  \n",
       "75%     36.600000                  0.626250   41.000000    1.000000  \n",
       "max     67.100000                  2.420000   81.000000    1.000000  "
      ]
     },
     "execution_count": 5,
     "metadata": {},
     "output_type": "execute_result"
    }
   ],
   "source": [
    "df.describe()"
   ]
  },
  {
   "cell_type": "code",
   "execution_count": 6,
   "id": "a00d11e9",
   "metadata": {
    "execution": {
     "iopub.execute_input": "2023-11-05T14:05:47.131704Z",
     "iopub.status.busy": "2023-11-05T14:05:47.131273Z",
     "iopub.status.idle": "2023-11-05T14:05:47.141713Z",
     "shell.execute_reply": "2023-11-05T14:05:47.140470Z"
    },
    "papermill": {
     "duration": 0.028026,
     "end_time": "2023-11-05T14:05:47.144832",
     "exception": false,
     "start_time": "2023-11-05T14:05:47.116806",
     "status": "completed"
    },
    "tags": []
   },
   "outputs": [
    {
     "data": {
      "text/plain": [
       "Pregnancies                 0\n",
       "Glucose                     0\n",
       "BloodPressure               0\n",
       "SkinThickness               0\n",
       "Insulin                     0\n",
       "BMI                         0\n",
       "DiabetesPedigreeFunction    0\n",
       "Age                         0\n",
       "Outcome                     0\n",
       "dtype: int64"
      ]
     },
     "execution_count": 6,
     "metadata": {},
     "output_type": "execute_result"
    }
   ],
   "source": [
    "df.isna().sum()"
   ]
  },
  {
   "cell_type": "code",
   "execution_count": 7,
   "id": "591ed3cb",
   "metadata": {
    "execution": {
     "iopub.execute_input": "2023-11-05T14:05:47.174171Z",
     "iopub.status.busy": "2023-11-05T14:05:47.173791Z",
     "iopub.status.idle": "2023-11-05T14:05:47.181211Z",
     "shell.execute_reply": "2023-11-05T14:05:47.179751Z"
    },
    "papermill": {
     "duration": 0.026192,
     "end_time": "2023-11-05T14:05:47.184265",
     "exception": false,
     "start_time": "2023-11-05T14:05:47.158073",
     "status": "completed"
    },
    "tags": []
   },
   "outputs": [
    {
     "data": {
      "text/plain": [
       "Index(['Pregnancies', 'Glucose', 'BloodPressure', 'SkinThickness', 'Insulin',\n",
       "       'BMI', 'DiabetesPedigreeFunction', 'Age', 'Outcome'],\n",
       "      dtype='object')"
      ]
     },
     "execution_count": 7,
     "metadata": {},
     "output_type": "execute_result"
    }
   ],
   "source": [
    "df.columns"
   ]
  },
  {
   "cell_type": "code",
   "execution_count": 8,
   "id": "21805522",
   "metadata": {
    "execution": {
     "iopub.execute_input": "2023-11-05T14:05:47.211991Z",
     "iopub.status.busy": "2023-11-05T14:05:47.211567Z",
     "iopub.status.idle": "2023-11-05T14:05:47.219802Z",
     "shell.execute_reply": "2023-11-05T14:05:47.218565Z"
    },
    "papermill": {
     "duration": 0.025274,
     "end_time": "2023-11-05T14:05:47.222350",
     "exception": false,
     "start_time": "2023-11-05T14:05:47.197076",
     "status": "completed"
    },
    "tags": []
   },
   "outputs": [
    {
     "data": {
      "text/plain": [
       "(768, 9)"
      ]
     },
     "execution_count": 8,
     "metadata": {},
     "output_type": "execute_result"
    }
   ],
   "source": [
    "df.shape"
   ]
  },
  {
   "cell_type": "markdown",
   "id": "db748418",
   "metadata": {
    "papermill": {
     "duration": 0.01529,
     "end_time": "2023-11-05T14:05:47.251097",
     "exception": false,
     "start_time": "2023-11-05T14:05:47.235807",
     "status": "completed"
    },
    "tags": []
   },
   "source": [
    "**Data cleaning**"
   ]
  },
  {
   "cell_type": "code",
   "execution_count": 9,
   "id": "4315d4b3",
   "metadata": {
    "execution": {
     "iopub.execute_input": "2023-11-05T14:05:47.281391Z",
     "iopub.status.busy": "2023-11-05T14:05:47.280565Z",
     "iopub.status.idle": "2023-11-05T14:05:47.289823Z",
     "shell.execute_reply": "2023-11-05T14:05:47.288334Z"
    },
    "papermill": {
     "duration": 0.02768,
     "end_time": "2023-11-05T14:05:47.292887",
     "exception": false,
     "start_time": "2023-11-05T14:05:47.265207",
     "status": "completed"
    },
    "tags": []
   },
   "outputs": [],
   "source": [
    "df[\"SkinThickness\"] =df[\"SkinThickness\"].replace(0,df[\"SkinThickness\"].mean())"
   ]
  },
  {
   "cell_type": "code",
   "execution_count": 10,
   "id": "531f3e20",
   "metadata": {
    "execution": {
     "iopub.execute_input": "2023-11-05T14:05:47.322985Z",
     "iopub.status.busy": "2023-11-05T14:05:47.322208Z",
     "iopub.status.idle": "2023-11-05T14:05:47.347060Z",
     "shell.execute_reply": "2023-11-05T14:05:47.345768Z"
    },
    "papermill": {
     "duration": 0.042907,
     "end_time": "2023-11-05T14:05:47.349826",
     "exception": false,
     "start_time": "2023-11-05T14:05:47.306919",
     "status": "completed"
    },
    "tags": []
   },
   "outputs": [
    {
     "data": {
      "text/html": [
       "<div>\n",
       "<style scoped>\n",
       "    .dataframe tbody tr th:only-of-type {\n",
       "        vertical-align: middle;\n",
       "    }\n",
       "\n",
       "    .dataframe tbody tr th {\n",
       "        vertical-align: top;\n",
       "    }\n",
       "\n",
       "    .dataframe thead th {\n",
       "        text-align: right;\n",
       "    }\n",
       "</style>\n",
       "<table border=\"1\" class=\"dataframe\">\n",
       "  <thead>\n",
       "    <tr style=\"text-align: right;\">\n",
       "      <th></th>\n",
       "      <th>Pregnancies</th>\n",
       "      <th>Glucose</th>\n",
       "      <th>BloodPressure</th>\n",
       "      <th>SkinThickness</th>\n",
       "      <th>Insulin</th>\n",
       "      <th>BMI</th>\n",
       "      <th>DiabetesPedigreeFunction</th>\n",
       "      <th>Age</th>\n",
       "      <th>Outcome</th>\n",
       "    </tr>\n",
       "  </thead>\n",
       "  <tbody>\n",
       "    <tr>\n",
       "      <th>0</th>\n",
       "      <td>6</td>\n",
       "      <td>148</td>\n",
       "      <td>72</td>\n",
       "      <td>35.000000</td>\n",
       "      <td>0</td>\n",
       "      <td>33.6</td>\n",
       "      <td>0.627</td>\n",
       "      <td>50</td>\n",
       "      <td>1</td>\n",
       "    </tr>\n",
       "    <tr>\n",
       "      <th>1</th>\n",
       "      <td>1</td>\n",
       "      <td>85</td>\n",
       "      <td>66</td>\n",
       "      <td>29.000000</td>\n",
       "      <td>0</td>\n",
       "      <td>26.6</td>\n",
       "      <td>0.351</td>\n",
       "      <td>31</td>\n",
       "      <td>0</td>\n",
       "    </tr>\n",
       "    <tr>\n",
       "      <th>2</th>\n",
       "      <td>8</td>\n",
       "      <td>183</td>\n",
       "      <td>64</td>\n",
       "      <td>20.536458</td>\n",
       "      <td>0</td>\n",
       "      <td>23.3</td>\n",
       "      <td>0.672</td>\n",
       "      <td>32</td>\n",
       "      <td>1</td>\n",
       "    </tr>\n",
       "    <tr>\n",
       "      <th>3</th>\n",
       "      <td>1</td>\n",
       "      <td>89</td>\n",
       "      <td>66</td>\n",
       "      <td>23.000000</td>\n",
       "      <td>94</td>\n",
       "      <td>28.1</td>\n",
       "      <td>0.167</td>\n",
       "      <td>21</td>\n",
       "      <td>0</td>\n",
       "    </tr>\n",
       "    <tr>\n",
       "      <th>4</th>\n",
       "      <td>0</td>\n",
       "      <td>137</td>\n",
       "      <td>40</td>\n",
       "      <td>35.000000</td>\n",
       "      <td>168</td>\n",
       "      <td>43.1</td>\n",
       "      <td>2.288</td>\n",
       "      <td>33</td>\n",
       "      <td>1</td>\n",
       "    </tr>\n",
       "    <tr>\n",
       "      <th>...</th>\n",
       "      <td>...</td>\n",
       "      <td>...</td>\n",
       "      <td>...</td>\n",
       "      <td>...</td>\n",
       "      <td>...</td>\n",
       "      <td>...</td>\n",
       "      <td>...</td>\n",
       "      <td>...</td>\n",
       "      <td>...</td>\n",
       "    </tr>\n",
       "    <tr>\n",
       "      <th>763</th>\n",
       "      <td>10</td>\n",
       "      <td>101</td>\n",
       "      <td>76</td>\n",
       "      <td>48.000000</td>\n",
       "      <td>180</td>\n",
       "      <td>32.9</td>\n",
       "      <td>0.171</td>\n",
       "      <td>63</td>\n",
       "      <td>0</td>\n",
       "    </tr>\n",
       "    <tr>\n",
       "      <th>764</th>\n",
       "      <td>2</td>\n",
       "      <td>122</td>\n",
       "      <td>70</td>\n",
       "      <td>27.000000</td>\n",
       "      <td>0</td>\n",
       "      <td>36.8</td>\n",
       "      <td>0.340</td>\n",
       "      <td>27</td>\n",
       "      <td>0</td>\n",
       "    </tr>\n",
       "    <tr>\n",
       "      <th>765</th>\n",
       "      <td>5</td>\n",
       "      <td>121</td>\n",
       "      <td>72</td>\n",
       "      <td>23.000000</td>\n",
       "      <td>112</td>\n",
       "      <td>26.2</td>\n",
       "      <td>0.245</td>\n",
       "      <td>30</td>\n",
       "      <td>0</td>\n",
       "    </tr>\n",
       "    <tr>\n",
       "      <th>766</th>\n",
       "      <td>1</td>\n",
       "      <td>126</td>\n",
       "      <td>60</td>\n",
       "      <td>20.536458</td>\n",
       "      <td>0</td>\n",
       "      <td>30.1</td>\n",
       "      <td>0.349</td>\n",
       "      <td>47</td>\n",
       "      <td>1</td>\n",
       "    </tr>\n",
       "    <tr>\n",
       "      <th>767</th>\n",
       "      <td>1</td>\n",
       "      <td>93</td>\n",
       "      <td>70</td>\n",
       "      <td>31.000000</td>\n",
       "      <td>0</td>\n",
       "      <td>30.4</td>\n",
       "      <td>0.315</td>\n",
       "      <td>23</td>\n",
       "      <td>0</td>\n",
       "    </tr>\n",
       "  </tbody>\n",
       "</table>\n",
       "<p>768 rows × 9 columns</p>\n",
       "</div>"
      ],
      "text/plain": [
       "     Pregnancies  Glucose  BloodPressure  SkinThickness  Insulin   BMI  \\\n",
       "0              6      148             72      35.000000        0  33.6   \n",
       "1              1       85             66      29.000000        0  26.6   \n",
       "2              8      183             64      20.536458        0  23.3   \n",
       "3              1       89             66      23.000000       94  28.1   \n",
       "4              0      137             40      35.000000      168  43.1   \n",
       "..           ...      ...            ...            ...      ...   ...   \n",
       "763           10      101             76      48.000000      180  32.9   \n",
       "764            2      122             70      27.000000        0  36.8   \n",
       "765            5      121             72      23.000000      112  26.2   \n",
       "766            1      126             60      20.536458        0  30.1   \n",
       "767            1       93             70      31.000000        0  30.4   \n",
       "\n",
       "     DiabetesPedigreeFunction  Age  Outcome  \n",
       "0                       0.627   50        1  \n",
       "1                       0.351   31        0  \n",
       "2                       0.672   32        1  \n",
       "3                       0.167   21        0  \n",
       "4                       2.288   33        1  \n",
       "..                        ...  ...      ...  \n",
       "763                     0.171   63        0  \n",
       "764                     0.340   27        0  \n",
       "765                     0.245   30        0  \n",
       "766                     0.349   47        1  \n",
       "767                     0.315   23        0  \n",
       "\n",
       "[768 rows x 9 columns]"
      ]
     },
     "execution_count": 10,
     "metadata": {},
     "output_type": "execute_result"
    }
   ],
   "source": [
    "df"
   ]
  },
  {
   "cell_type": "code",
   "execution_count": 11,
   "id": "4175e012",
   "metadata": {
    "execution": {
     "iopub.execute_input": "2023-11-05T14:05:47.380753Z",
     "iopub.status.busy": "2023-11-05T14:05:47.380249Z",
     "iopub.status.idle": "2023-11-05T14:05:47.781169Z",
     "shell.execute_reply": "2023-11-05T14:05:47.778791Z"
    },
    "papermill": {
     "duration": 0.419646,
     "end_time": "2023-11-05T14:05:47.783980",
     "exception": false,
     "start_time": "2023-11-05T14:05:47.364334",
     "status": "completed"
    },
    "tags": []
   },
   "outputs": [
    {
     "data": {
      "image/png": "[encoded data removed]",
      "text/plain": [
       "<Figure size 1200x700 with 1 Axes>"
      ]
     },
     "metadata": {},
     "output_type": "display_data"
    }
   ],
   "source": [
    "plt.figure(figsize = (12,7))\n",
    "plt.hist(\"Glucose\",  data = df, edgecolor =\"k\")\n",
    "plt.title(\"Glucose Hist plot\")\n",
    "plt.show()"
   ]
  },
  {
   "cell_type": "code",
   "execution_count": 12,
   "id": "1c775540",
   "metadata": {
    "execution": {
     "iopub.execute_input": "2023-11-05T14:05:47.814298Z",
     "iopub.status.busy": "2023-11-05T14:05:47.813875Z",
     "iopub.status.idle": "2023-11-05T14:05:48.151453Z",
     "shell.execute_reply": "2023-11-05T14:05:48.150107Z"
    },
    "papermill": {
     "duration": 0.355855,
     "end_time": "2023-11-05T14:05:48.154047",
     "exception": false,
     "start_time": "2023-11-05T14:05:47.798192",
     "status": "completed"
    },
    "tags": []
   },
   "outputs": [
    {
     "data": {
      "image/png": "[encoded data removed]",
      "text/plain": [
       "<Figure size 1200x700 with 1 Axes>"
      ]
     },
     "metadata": {},
     "output_type": "display_data"
    }
   ],
   "source": [
    "plt.figure(figsize = (12,7))\n",
    "plt.hist(\"BMI\",  data = df, edgecolor =\"k\")\n",
    "plt.title(\"BMI Hist plot\")\n",
    "plt.show()"
   ]
  },
  {
   "cell_type": "code",
   "execution_count": 13,
   "id": "2077da11",
   "metadata": {
    "execution": {
     "iopub.execute_input": "2023-11-05T14:05:48.186024Z",
     "iopub.status.busy": "2023-11-05T14:05:48.185091Z",
     "iopub.status.idle": "2023-11-05T14:05:48.505832Z",
     "shell.execute_reply": "2023-11-05T14:05:48.504878Z"
    },
    "papermill": {
     "duration": 0.339202,
     "end_time": "2023-11-05T14:05:48.508156",
     "exception": false,
     "start_time": "2023-11-05T14:05:48.168954",
     "status": "completed"
    },
    "tags": []
   },
   "outputs": [
    {
     "data": {
      "image/png": "[encoded data removed]",
      "text/plain": [
       "<Figure size 1200x700 with 1 Axes>"
      ]
     },
     "metadata": {},
     "output_type": "display_data"
    }
   ],
   "source": [
    "plt.figure(figsize = (12,7))\n",
    "plt.hist(\"SkinThickness\",  data = df, edgecolor =\"k\")\n",
    "plt.title(\"SkinThickness Hist plot\")\n",
    "plt.show()"
   ]
  },
  {
   "cell_type": "markdown",
   "id": "f14be25c",
   "metadata": {
    "papermill": {
     "duration": 0.014541,
     "end_time": "2023-11-05T14:05:48.538433",
     "exception": false,
     "start_time": "2023-11-05T14:05:48.523892",
     "status": "completed"
    },
    "tags": []
   },
   "source": [
    "<h1>Outlier Removal</h1>"
   ]
  },
  {
   "cell_type": "code",
   "execution_count": 14,
   "id": "f6b249e2",
   "metadata": {
    "execution": {
     "iopub.execute_input": "2023-11-05T14:05:48.571483Z",
     "iopub.status.busy": "2023-11-05T14:05:48.570453Z",
     "iopub.status.idle": "2023-11-05T14:05:48.578912Z",
     "shell.execute_reply": "2023-11-05T14:05:48.577740Z"
    },
    "papermill": {
     "duration": 0.027453,
     "end_time": "2023-11-05T14:05:48.581362",
     "exception": false,
     "start_time": "2023-11-05T14:05:48.553909",
     "status": "completed"
    },
    "tags": []
   },
   "outputs": [],
   "source": [
    "def remove_outlier(dataFrame):\n",
    "    for column_name in dataFrame.columns:\n",
    "        Q1 = df[column_name].quantile(0.25)\n",
    "        Q3 = df[column_name].quantile(0.75)\n",
    "        IQR = Q3 - Q1\n",
    "        lower_limit = Q1- 1.5*IQR\n",
    "        upper_limit= Q3 +1.5*IQR\n",
    "        print(f\"{column_name} >>Lower Limit: {lower_limit}\\n upper Limit: {upper_limit}\")\n",
    "        dataFrame = dataFrame[(dataFrame[column_name]> lower_limit)|(dataFrame[column_name]< upper_limit)]\n",
    "        \n",
    "        \n",
    "    return dataFrame                                 "
   ]
  },
  {
   "cell_type": "code",
   "execution_count": 15,
   "id": "b28d67fc",
   "metadata": {
    "execution": {
     "iopub.execute_input": "2023-11-05T14:05:48.613051Z",
     "iopub.status.busy": "2023-11-05T14:05:48.612602Z",
     "iopub.status.idle": "2023-11-05T14:05:48.641078Z",
     "shell.execute_reply": "2023-11-05T14:05:48.639000Z"
    },
    "papermill": {
     "duration": 0.047458,
     "end_time": "2023-11-05T14:05:48.643834",
     "exception": false,
     "start_time": "2023-11-05T14:05:48.596376",
     "status": "completed"
    },
    "tags": []
   },
   "outputs": [
    {
     "name": "stdout",
     "output_type": "stream",
     "text": [
      "Pregnancies >>Lower Limit: -6.5\n",
      " upper Limit: 13.5\n",
      "Glucose >>Lower Limit: 37.125\n",
      " upper Limit: 202.125\n",
      "BloodPressure >>Lower Limit: 35.0\n",
      " upper Limit: 107.0\n",
      "SkinThickness >>Lower Limit: 3.341145833333332\n",
      " upper Limit: 49.1953125\n",
      "Insulin >>Lower Limit: -190.875\n",
      " upper Limit: 318.125\n",
      "BMI >>Lower Limit: 13.35\n",
      " upper Limit: 50.550000000000004\n",
      "DiabetesPedigreeFunction >>Lower Limit: -0.32999999999999996\n",
      " upper Limit: 1.2\n",
      "Age >>Lower Limit: -1.5\n",
      " upper Limit: 66.5\n",
      "Outcome >>Lower Limit: -1.5\n",
      " upper Limit: 2.5\n"
     ]
    }
   ],
   "source": [
    "df = remove_outlier(df)\n"
   ]
  },
  {
   "cell_type": "code",
   "execution_count": 16,
   "id": "326f898e",
   "metadata": {
    "execution": {
     "iopub.execute_input": "2023-11-05T14:05:48.675852Z",
     "iopub.status.busy": "2023-11-05T14:05:48.675308Z",
     "iopub.status.idle": "2023-11-05T14:05:48.698001Z",
     "shell.execute_reply": "2023-11-05T14:05:48.696565Z"
    },
    "papermill": {
     "duration": 0.042573,
     "end_time": "2023-11-05T14:05:48.701128",
     "exception": false,
     "start_time": "2023-11-05T14:05:48.658555",
     "status": "completed"
    },
    "tags": []
   },
   "outputs": [
    {
     "data": {
      "text/html": [
       "<div>\n",
       "<style scoped>\n",
       "    .dataframe tbody tr th:only-of-type {\n",
       "        vertical-align: middle;\n",
       "    }\n",
       "\n",
       "    .dataframe tbody tr th {\n",
       "        vertical-align: top;\n",
       "    }\n",
       "\n",
       "    .dataframe thead th {\n",
       "        text-align: right;\n",
       "    }\n",
       "</style>\n",
       "<table border=\"1\" class=\"dataframe\">\n",
       "  <thead>\n",
       "    <tr style=\"text-align: right;\">\n",
       "      <th></th>\n",
       "      <th>Pregnancies</th>\n",
       "      <th>Glucose</th>\n",
       "      <th>BloodPressure</th>\n",
       "      <th>SkinThickness</th>\n",
       "      <th>Insulin</th>\n",
       "      <th>BMI</th>\n",
       "      <th>DiabetesPedigreeFunction</th>\n",
       "      <th>Age</th>\n",
       "      <th>Outcome</th>\n",
       "    </tr>\n",
       "  </thead>\n",
       "  <tbody>\n",
       "    <tr>\n",
       "      <th>0</th>\n",
       "      <td>6</td>\n",
       "      <td>148</td>\n",
       "      <td>72</td>\n",
       "      <td>35.000000</td>\n",
       "      <td>0</td>\n",
       "      <td>33.6</td>\n",
       "      <td>0.627</td>\n",
       "      <td>50</td>\n",
       "      <td>1</td>\n",
       "    </tr>\n",
       "    <tr>\n",
       "      <th>1</th>\n",
       "      <td>1</td>\n",
       "      <td>85</td>\n",
       "      <td>66</td>\n",
       "      <td>29.000000</td>\n",
       "      <td>0</td>\n",
       "      <td>26.6</td>\n",
       "      <td>0.351</td>\n",
       "      <td>31</td>\n",
       "      <td>0</td>\n",
       "    </tr>\n",
       "    <tr>\n",
       "      <th>2</th>\n",
       "      <td>8</td>\n",
       "      <td>183</td>\n",
       "      <td>64</td>\n",
       "      <td>20.536458</td>\n",
       "      <td>0</td>\n",
       "      <td>23.3</td>\n",
       "      <td>0.672</td>\n",
       "      <td>32</td>\n",
       "      <td>1</td>\n",
       "    </tr>\n",
       "    <tr>\n",
       "      <th>3</th>\n",
       "      <td>1</td>\n",
       "      <td>89</td>\n",
       "      <td>66</td>\n",
       "      <td>23.000000</td>\n",
       "      <td>94</td>\n",
       "      <td>28.1</td>\n",
       "      <td>0.167</td>\n",
       "      <td>21</td>\n",
       "      <td>0</td>\n",
       "    </tr>\n",
       "    <tr>\n",
       "      <th>4</th>\n",
       "      <td>0</td>\n",
       "      <td>137</td>\n",
       "      <td>40</td>\n",
       "      <td>35.000000</td>\n",
       "      <td>168</td>\n",
       "      <td>43.1</td>\n",
       "      <td>2.288</td>\n",
       "      <td>33</td>\n",
       "      <td>1</td>\n",
       "    </tr>\n",
       "    <tr>\n",
       "      <th>...</th>\n",
       "      <td>...</td>\n",
       "      <td>...</td>\n",
       "      <td>...</td>\n",
       "      <td>...</td>\n",
       "      <td>...</td>\n",
       "      <td>...</td>\n",
       "      <td>...</td>\n",
       "      <td>...</td>\n",
       "      <td>...</td>\n",
       "    </tr>\n",
       "    <tr>\n",
       "      <th>763</th>\n",
       "      <td>10</td>\n",
       "      <td>101</td>\n",
       "      <td>76</td>\n",
       "      <td>48.000000</td>\n",
       "      <td>180</td>\n",
       "      <td>32.9</td>\n",
       "      <td>0.171</td>\n",
       "      <td>63</td>\n",
       "      <td>0</td>\n",
       "    </tr>\n",
       "    <tr>\n",
       "      <th>764</th>\n",
       "      <td>2</td>\n",
       "      <td>122</td>\n",
       "      <td>70</td>\n",
       "      <td>27.000000</td>\n",
       "      <td>0</td>\n",
       "      <td>36.8</td>\n",
       "      <td>0.340</td>\n",
       "      <td>27</td>\n",
       "      <td>0</td>\n",
       "    </tr>\n",
       "    <tr>\n",
       "      <th>765</th>\n",
       "      <td>5</td>\n",
       "      <td>121</td>\n",
       "      <td>72</td>\n",
       "      <td>23.000000</td>\n",
       "      <td>112</td>\n",
       "      <td>26.2</td>\n",
       "      <td>0.245</td>\n",
       "      <td>30</td>\n",
       "      <td>0</td>\n",
       "    </tr>\n",
       "    <tr>\n",
       "      <th>766</th>\n",
       "      <td>1</td>\n",
       "      <td>126</td>\n",
       "      <td>60</td>\n",
       "      <td>20.536458</td>\n",
       "      <td>0</td>\n",
       "      <td>30.1</td>\n",
       "      <td>0.349</td>\n",
       "      <td>47</td>\n",
       "      <td>1</td>\n",
       "    </tr>\n",
       "    <tr>\n",
       "      <th>767</th>\n",
       "      <td>1</td>\n",
       "      <td>93</td>\n",
       "      <td>70</td>\n",
       "      <td>31.000000</td>\n",
       "      <td>0</td>\n",
       "      <td>30.4</td>\n",
       "      <td>0.315</td>\n",
       "      <td>23</td>\n",
       "      <td>0</td>\n",
       "    </tr>\n",
       "  </tbody>\n",
       "</table>\n",
       "<p>768 rows × 9 columns</p>\n",
       "</div>"
      ],
      "text/plain": [
       "     Pregnancies  Glucose  BloodPressure  SkinThickness  Insulin   BMI  \\\n",
       "0              6      148             72      35.000000        0  33.6   \n",
       "1              1       85             66      29.000000        0  26.6   \n",
       "2              8      183             64      20.536458        0  23.3   \n",
       "3              1       89             66      23.000000       94  28.1   \n",
       "4              0      137             40      35.000000      168  43.1   \n",
       "..           ...      ...            ...            ...      ...   ...   \n",
       "763           10      101             76      48.000000      180  32.9   \n",
       "764            2      122             70      27.000000        0  36.8   \n",
       "765            5      121             72      23.000000      112  26.2   \n",
       "766            1      126             60      20.536458        0  30.1   \n",
       "767            1       93             70      31.000000        0  30.4   \n",
       "\n",
       "     DiabetesPedigreeFunction  Age  Outcome  \n",
       "0                       0.627   50        1  \n",
       "1                       0.351   31        0  \n",
       "2                       0.672   32        1  \n",
       "3                       0.167   21        0  \n",
       "4                       2.288   33        1  \n",
       "..                        ...  ...      ...  \n",
       "763                     0.171   63        0  \n",
       "764                     0.340   27        0  \n",
       "765                     0.245   30        0  \n",
       "766                     0.349   47        1  \n",
       "767                     0.315   23        0  \n",
       "\n",
       "[768 rows x 9 columns]"
      ]
     },
     "execution_count": 16,
     "metadata": {},
     "output_type": "execute_result"
    }
   ],
   "source": [
    "df"
   ]
  },
  {
   "cell_type": "code",
   "execution_count": 17,
   "id": "7c6bf43d",
   "metadata": {
    "execution": {
     "iopub.execute_input": "2023-11-05T14:05:48.734645Z",
     "iopub.status.busy": "2023-11-05T14:05:48.733999Z",
     "iopub.status.idle": "2023-11-05T14:05:48.739869Z",
     "shell.execute_reply": "2023-11-05T14:05:48.739011Z"
    },
    "papermill": {
     "duration": 0.025112,
     "end_time": "2023-11-05T14:05:48.742084",
     "exception": false,
     "start_time": "2023-11-05T14:05:48.716972",
     "status": "completed"
    },
    "tags": []
   },
   "outputs": [
    {
     "data": {
      "text/plain": [
       "(768, 9)"
      ]
     },
     "execution_count": 17,
     "metadata": {},
     "output_type": "execute_result"
    }
   ],
   "source": [
    "df.shape"
   ]
  },
  {
   "cell_type": "markdown",
   "id": "5fa1eaaa",
   "metadata": {
    "papermill": {
     "duration": 0.015258,
     "end_time": "2023-11-05T14:05:48.773124",
     "exception": false,
     "start_time": "2023-11-05T14:05:48.757866",
     "status": "completed"
    },
    "tags": []
   },
   "source": [
    "<h1>Data splitting</h1>"
   ]
  },
  {
   "cell_type": "code",
   "execution_count": 18,
   "id": "e8b05a3b",
   "metadata": {
    "execution": {
     "iopub.execute_input": "2023-11-05T14:05:48.806951Z",
     "iopub.status.busy": "2023-11-05T14:05:48.806560Z",
     "iopub.status.idle": "2023-11-05T14:05:49.095715Z",
     "shell.execute_reply": "2023-11-05T14:05:49.093976Z"
    },
    "papermill": {
     "duration": 0.309726,
     "end_time": "2023-11-05T14:05:49.099172",
     "exception": false,
     "start_time": "2023-11-05T14:05:48.789446",
     "status": "completed"
    },
    "tags": []
   },
   "outputs": [],
   "source": [
    "from sklearn.model_selection import train_test_split"
   ]
  },
  {
   "cell_type": "code",
   "execution_count": 19,
   "id": "8d0879ca",
   "metadata": {
    "execution": {
     "iopub.execute_input": "2023-11-05T14:05:49.133886Z",
     "iopub.status.busy": "2023-11-05T14:05:49.133265Z",
     "iopub.status.idle": "2023-11-05T14:05:49.139604Z",
     "shell.execute_reply": "2023-11-05T14:05:49.138804Z"
    },
    "papermill": {
     "duration": 0.025887,
     "end_time": "2023-11-05T14:05:49.141937",
     "exception": false,
     "start_time": "2023-11-05T14:05:49.116050",
     "status": "completed"
    },
    "tags": []
   },
   "outputs": [],
   "source": [
    "x = df.drop([\"Outcome\"], axis = 1)\n",
    "y = df[\"Outcome\"]"
   ]
  },
  {
   "cell_type": "code",
   "execution_count": 20,
   "id": "c5c39aa1",
   "metadata": {
    "execution": {
     "iopub.execute_input": "2023-11-05T14:05:49.175451Z",
     "iopub.status.busy": "2023-11-05T14:05:49.174839Z",
     "iopub.status.idle": "2023-11-05T14:05:49.181097Z",
     "shell.execute_reply": "2023-11-05T14:05:49.180322Z"
    },
    "papermill": {
     "duration": 0.026274,
     "end_time": "2023-11-05T14:05:49.184041",
     "exception": false,
     "start_time": "2023-11-05T14:05:49.157767",
     "status": "completed"
    },
    "tags": []
   },
   "outputs": [],
   "source": [
    "x_train, x_test, y_train,y_test = train_test_split(x, y, train_size =0.8, random_state = 42)"
   ]
  },
  {
   "cell_type": "code",
   "execution_count": 21,
   "id": "94fc9282",
   "metadata": {
    "execution": {
     "iopub.execute_input": "2023-11-05T14:05:49.317346Z",
     "iopub.status.busy": "2023-11-05T14:05:49.316609Z",
     "iopub.status.idle": "2023-11-05T14:05:49.336831Z",
     "shell.execute_reply": "2023-11-05T14:05:49.335925Z"
    },
    "papermill": {
     "duration": 0.040208,
     "end_time": "2023-11-05T14:05:49.339177",
     "exception": false,
     "start_time": "2023-11-05T14:05:49.298969",
     "status": "completed"
    },
    "tags": []
   },
   "outputs": [
    {
     "data": {
      "text/html": [
       "<div>\n",
       "<style scoped>\n",
       "    .dataframe tbody tr th:only-of-type {\n",
       "        vertical-align: middle;\n",
       "    }\n",
       "\n",
       "    .dataframe tbody tr th {\n",
       "        vertical-align: top;\n",
       "    }\n",
       "\n",
       "    .dataframe thead th {\n",
       "        text-align: right;\n",
       "    }\n",
       "</style>\n",
       "<table border=\"1\" class=\"dataframe\">\n",
       "  <thead>\n",
       "    <tr style=\"text-align: right;\">\n",
       "      <th></th>\n",
       "      <th>Pregnancies</th>\n",
       "      <th>Glucose</th>\n",
       "      <th>BloodPressure</th>\n",
       "      <th>SkinThickness</th>\n",
       "      <th>Insulin</th>\n",
       "      <th>BMI</th>\n",
       "      <th>DiabetesPedigreeFunction</th>\n",
       "      <th>Age</th>\n",
       "    </tr>\n",
       "  </thead>\n",
       "  <tbody>\n",
       "    <tr>\n",
       "      <th>60</th>\n",
       "      <td>2</td>\n",
       "      <td>84</td>\n",
       "      <td>0</td>\n",
       "      <td>20.536458</td>\n",
       "      <td>0</td>\n",
       "      <td>0.0</td>\n",
       "      <td>0.304</td>\n",
       "      <td>21</td>\n",
       "    </tr>\n",
       "    <tr>\n",
       "      <th>618</th>\n",
       "      <td>9</td>\n",
       "      <td>112</td>\n",
       "      <td>82</td>\n",
       "      <td>24.000000</td>\n",
       "      <td>0</td>\n",
       "      <td>28.2</td>\n",
       "      <td>1.282</td>\n",
       "      <td>50</td>\n",
       "    </tr>\n",
       "    <tr>\n",
       "      <th>346</th>\n",
       "      <td>1</td>\n",
       "      <td>139</td>\n",
       "      <td>46</td>\n",
       "      <td>19.000000</td>\n",
       "      <td>83</td>\n",
       "      <td>28.7</td>\n",
       "      <td>0.654</td>\n",
       "      <td>22</td>\n",
       "    </tr>\n",
       "    <tr>\n",
       "      <th>294</th>\n",
       "      <td>0</td>\n",
       "      <td>161</td>\n",
       "      <td>50</td>\n",
       "      <td>20.536458</td>\n",
       "      <td>0</td>\n",
       "      <td>21.9</td>\n",
       "      <td>0.254</td>\n",
       "      <td>65</td>\n",
       "    </tr>\n",
       "    <tr>\n",
       "      <th>231</th>\n",
       "      <td>6</td>\n",
       "      <td>134</td>\n",
       "      <td>80</td>\n",
       "      <td>37.000000</td>\n",
       "      <td>370</td>\n",
       "      <td>46.2</td>\n",
       "      <td>0.238</td>\n",
       "      <td>46</td>\n",
       "    </tr>\n",
       "    <tr>\n",
       "      <th>...</th>\n",
       "      <td>...</td>\n",
       "      <td>...</td>\n",
       "      <td>...</td>\n",
       "      <td>...</td>\n",
       "      <td>...</td>\n",
       "      <td>...</td>\n",
       "      <td>...</td>\n",
       "      <td>...</td>\n",
       "    </tr>\n",
       "    <tr>\n",
       "      <th>71</th>\n",
       "      <td>5</td>\n",
       "      <td>139</td>\n",
       "      <td>64</td>\n",
       "      <td>35.000000</td>\n",
       "      <td>140</td>\n",
       "      <td>28.6</td>\n",
       "      <td>0.411</td>\n",
       "      <td>26</td>\n",
       "    </tr>\n",
       "    <tr>\n",
       "      <th>106</th>\n",
       "      <td>1</td>\n",
       "      <td>96</td>\n",
       "      <td>122</td>\n",
       "      <td>20.536458</td>\n",
       "      <td>0</td>\n",
       "      <td>22.4</td>\n",
       "      <td>0.207</td>\n",
       "      <td>27</td>\n",
       "    </tr>\n",
       "    <tr>\n",
       "      <th>270</th>\n",
       "      <td>10</td>\n",
       "      <td>101</td>\n",
       "      <td>86</td>\n",
       "      <td>37.000000</td>\n",
       "      <td>0</td>\n",
       "      <td>45.6</td>\n",
       "      <td>1.136</td>\n",
       "      <td>38</td>\n",
       "    </tr>\n",
       "    <tr>\n",
       "      <th>435</th>\n",
       "      <td>0</td>\n",
       "      <td>141</td>\n",
       "      <td>0</td>\n",
       "      <td>20.536458</td>\n",
       "      <td>0</td>\n",
       "      <td>42.4</td>\n",
       "      <td>0.205</td>\n",
       "      <td>29</td>\n",
       "    </tr>\n",
       "    <tr>\n",
       "      <th>102</th>\n",
       "      <td>0</td>\n",
       "      <td>125</td>\n",
       "      <td>96</td>\n",
       "      <td>20.536458</td>\n",
       "      <td>0</td>\n",
       "      <td>22.5</td>\n",
       "      <td>0.262</td>\n",
       "      <td>21</td>\n",
       "    </tr>\n",
       "  </tbody>\n",
       "</table>\n",
       "<p>614 rows × 8 columns</p>\n",
       "</div>"
      ],
      "text/plain": [
       "     Pregnancies  Glucose  BloodPressure  SkinThickness  Insulin   BMI  \\\n",
       "60             2       84              0      20.536458        0   0.0   \n",
       "618            9      112             82      24.000000        0  28.2   \n",
       "346            1      139             46      19.000000       83  28.7   \n",
       "294            0      161             50      20.536458        0  21.9   \n",
       "231            6      134             80      37.000000      370  46.2   \n",
       "..           ...      ...            ...            ...      ...   ...   \n",
       "71             5      139             64      35.000000      140  28.6   \n",
       "106            1       96            122      20.536458        0  22.4   \n",
       "270           10      101             86      37.000000        0  45.6   \n",
       "435            0      141              0      20.536458        0  42.4   \n",
       "102            0      125             96      20.536458        0  22.5   \n",
       "\n",
       "     DiabetesPedigreeFunction  Age  \n",
       "60                      0.304   21  \n",
       "618                     1.282   50  \n",
       "346                     0.654   22  \n",
       "294                     0.254   65  \n",
       "231                     0.238   46  \n",
       "..                        ...  ...  \n",
       "71                      0.411   26  \n",
       "106                     0.207   27  \n",
       "270                     1.136   38  \n",
       "435                     0.205   29  \n",
       "102                     0.262   21  \n",
       "\n",
       "[614 rows x 8 columns]"
      ]
     },
     "execution_count": 21,
     "metadata": {},
     "output_type": "execute_result"
    }
   ],
   "source": [
    "x_train"
   ]
  },
  {
   "cell_type": "code",
   "execution_count": 22,
   "id": "40ffb083",
   "metadata": {
    "execution": {
     "iopub.execute_input": "2023-11-05T14:05:49.383480Z",
     "iopub.status.busy": "2023-11-05T14:05:49.382250Z",
     "iopub.status.idle": "2023-11-05T14:05:49.394380Z",
     "shell.execute_reply": "2023-11-05T14:05:49.393373Z"
    },
    "papermill": {
     "duration": 0.038174,
     "end_time": "2023-11-05T14:05:49.397540",
     "exception": false,
     "start_time": "2023-11-05T14:05:49.359366",
     "status": "completed"
    },
    "tags": []
   },
   "outputs": [
    {
     "data": {
      "text/plain": [
       "60     0\n",
       "618    1\n",
       "346    0\n",
       "294    0\n",
       "231    1\n",
       "      ..\n",
       "71     0\n",
       "106    0\n",
       "270    1\n",
       "435    1\n",
       "102    0\n",
       "Name: Outcome, Length: 614, dtype: int64"
      ]
     },
     "execution_count": 22,
     "metadata": {},
     "output_type": "execute_result"
    }
   ],
   "source": [
    "y_train"
   ]
  },
  {
   "cell_type": "code",
   "execution_count": 23,
   "id": "a51cad14",
   "metadata": {
    "execution": {
     "iopub.execute_input": "2023-11-05T14:05:49.440882Z",
     "iopub.status.busy": "2023-11-05T14:05:49.439542Z",
     "iopub.status.idle": "2023-11-05T14:05:49.448530Z",
     "shell.execute_reply": "2023-11-05T14:05:49.447123Z"
    },
    "papermill": {
     "duration": 0.036074,
     "end_time": "2023-11-05T14:05:49.452224",
     "exception": false,
     "start_time": "2023-11-05T14:05:49.416150",
     "status": "completed"
    },
    "tags": []
   },
   "outputs": [
    {
     "data": {
      "text/plain": [
       "(614, 8)"
      ]
     },
     "execution_count": 23,
     "metadata": {},
     "output_type": "execute_result"
    }
   ],
   "source": [
    "x_train.shape"
   ]
  },
  {
   "cell_type": "code",
   "execution_count": 24,
   "id": "faea1b1a",
   "metadata": {
    "execution": {
     "iopub.execute_input": "2023-11-05T14:05:49.503274Z",
     "iopub.status.busy": "2023-11-05T14:05:49.502777Z",
     "iopub.status.idle": "2023-11-05T14:05:49.509899Z",
     "shell.execute_reply": "2023-11-05T14:05:49.508534Z"
    },
    "papermill": {
     "duration": 0.034964,
     "end_time": "2023-11-05T14:05:49.512274",
     "exception": false,
     "start_time": "2023-11-05T14:05:49.477310",
     "status": "completed"
    },
    "tags": []
   },
   "outputs": [
    {
     "data": {
      "text/plain": [
       "(154, 8)"
      ]
     },
     "execution_count": 24,
     "metadata": {},
     "output_type": "execute_result"
    }
   ],
   "source": [
    "x_test.shape"
   ]
  },
  {
   "cell_type": "code",
   "execution_count": 25,
   "id": "0ee42b52",
   "metadata": {
    "execution": {
     "iopub.execute_input": "2023-11-05T14:05:49.549355Z",
     "iopub.status.busy": "2023-11-05T14:05:49.548865Z",
     "iopub.status.idle": "2023-11-05T14:05:49.678084Z",
     "shell.execute_reply": "2023-11-05T14:05:49.676585Z"
    },
    "papermill": {
     "duration": 0.152102,
     "end_time": "2023-11-05T14:05:49.681181",
     "exception": false,
     "start_time": "2023-11-05T14:05:49.529079",
     "status": "completed"
    },
    "tags": []
   },
   "outputs": [],
   "source": [
    "from sklearn.linear_model import LogisticRegression"
   ]
  },
  {
   "cell_type": "code",
   "execution_count": 26,
   "id": "600fe76d",
   "metadata": {
    "execution": {
     "iopub.execute_input": "2023-11-05T14:05:49.717803Z",
     "iopub.status.busy": "2023-11-05T14:05:49.717301Z",
     "iopub.status.idle": "2023-11-05T14:05:49.723695Z",
     "shell.execute_reply": "2023-11-05T14:05:49.722202Z"
    },
    "papermill": {
     "duration": 0.027342,
     "end_time": "2023-11-05T14:05:49.726229",
     "exception": false,
     "start_time": "2023-11-05T14:05:49.698887",
     "status": "completed"
    },
    "tags": []
   },
   "outputs": [],
   "source": [
    "logReg = LogisticRegression()"
   ]
  },
  {
   "cell_type": "code",
   "execution_count": 27,
   "id": "163c1446",
   "metadata": {
    "execution": {
     "iopub.execute_input": "2023-11-05T14:05:49.761896Z",
     "iopub.status.busy": "2023-11-05T14:05:49.761417Z",
     "iopub.status.idle": "2023-11-05T14:05:49.817082Z",
     "shell.execute_reply": "2023-11-05T14:05:49.815805Z"
    },
    "papermill": {
     "duration": 0.076835,
     "end_time": "2023-11-05T14:05:49.819853",
     "exception": false,
     "start_time": "2023-11-05T14:05:49.743018",
     "status": "completed"
    },
    "tags": []
   },
   "outputs": [
    {
     "name": "stderr",
     "output_type": "stream",
     "text": [
      "/opt/conda/lib/python3.10/site-packages/sklearn/linear_model/_logistic.py:458: ConvergenceWarning: lbfgs failed to converge (status=1):\n",
      "STOP: TOTAL NO. of ITERATIONS REACHED LIMIT.\n",
      "\n",
      "Increase the number of iterations (max_iter) or scale the data as shown in:\n",
      "    https://scikit-learn.org/stable/modules/preprocessing.html\n",
      "Please also refer to the documentation for alternative solver options:\n",
      "    https://scikit-learn.org/stable/modules/linear_model.html#logistic-regression\n",
      "  n_iter_i = _check_optimize_result(\n"
     ]
    },
    {
     "data": {
      "text/html": [
       "<style>#sk-container-id-1 {color: black;background-color: white;}#sk-container-id-1 pre{padding: 0;}#sk-container-id-1 div.sk-toggleable {background-color: white;}#sk-container-id-1 label.sk-toggleable__label {cursor: pointer;display: block;width: 100%;margin-bottom: 0;padding: 0.3em;box-sizing: border-box;text-align: center;}#sk-container-id-1 label.sk-toggleable__label-arrow:before {content: \"▸\";float: left;margin-right: 0.25em;color: #696969;}#sk-container-id-1 label.sk-toggleable__label-arrow:hover:before {color: black;}#sk-container-id-1 div.sk-estimator:hover label.sk-toggleable__label-arrow:before {color: black;}#sk-container-id-1 div.sk-toggleable__content {max-height: 0;max-width: 0;overflow: hidden;text-align: left;background-color: #f0f8ff;}#sk-container-id-1 div.sk-toggleable__content pre {margin: 0.2em;color: black;border-radius: 0.25em;background-color: #f0f8ff;}#sk-container-id-1 input.sk-toggleable__control:checked~div.sk-toggleable__content {max-height: 200px;max-width: 100%;overflow: auto;}#sk-container-id-1 input.sk-toggleable__control:checked~label.sk-toggleable__label-arrow:before {content: \"▾\";}#sk-container-id-1 div.sk-estimator input.sk-toggleable__control:checked~label.sk-toggleable__label {background-color: #d4ebff;}#sk-container-id-1 div.sk-label input.sk-toggleable__control:checked~label.sk-toggleable__label {background-color: #d4ebff;}#sk-container-id-1 input.sk-hidden--visually {border: 0;clip: rect(1px 1px 1px 1px);clip: rect(1px, 1px, 1px, 1px);height: 1px;margin: -1px;overflow: hidden;padding: 0;position: absolute;width: 1px;}#sk-container-id-1 div.sk-estimator {font-family: monospace;background-color: #f0f8ff;border: 1px dotted black;border-radius: 0.25em;box-sizing: border-box;margin-bottom: 0.5em;}#sk-container-id-1 div.sk-estimator:hover {background-color: #d4ebff;}#sk-container-id-1 div.sk-parallel-item::after {content: \"\";width: 100%;border-bottom: 1px solid gray;flex-grow: 1;}#sk-container-id-1 div.sk-label:hover label.sk-toggleable__label {background-color: #d4ebff;}#sk-container-id-1 div.sk-serial::before {content: \"\";position: absolute;border-left: 1px solid gray;box-sizing: border-box;top: 0;bottom: 0;left: 50%;z-index: 0;}#sk-container-id-1 div.sk-serial {display: flex;flex-direction: column;align-items: center;background-color: white;padding-right: 0.2em;padding-left: 0.2em;position: relative;}#sk-container-id-1 div.sk-item {position: relative;z-index: 1;}#sk-container-id-1 div.sk-parallel {display: flex;align-items: stretch;justify-content: center;background-color: white;position: relative;}#sk-container-id-1 div.sk-item::before, #sk-container-id-1 div.sk-parallel-item::before {content: \"\";position: absolute;border-left: 1px solid gray;box-sizing: border-box;top: 0;bottom: 0;left: 50%;z-index: -1;}#sk-container-id-1 div.sk-parallel-item {display: flex;flex-direction: column;z-index: 1;position: relative;background-color: white;}#sk-container-id-1 div.sk-parallel-item:first-child::after {align-self: flex-end;width: 50%;}#sk-container-id-1 div.sk-parallel-item:last-child::after {align-self: flex-start;width: 50%;}#sk-container-id-1 div.sk-parallel-item:only-child::after {width: 0;}#sk-container-id-1 div.sk-dashed-wrapped {border: 1px dashed gray;margin: 0 0.4em 0.5em 0.4em;box-sizing: border-box;padding-bottom: 0.4em;background-color: white;}#sk-container-id-1 div.sk-label label {font-family: monospace;font-weight: bold;display: inline-block;line-height: 1.2em;}#sk-container-id-1 div.sk-label-container {text-align: center;}#sk-container-id-1 div.sk-container {/* jupyter's `normalize.less` sets `[hidden] { display: none; }` but bootstrap.min.css set `[hidden] { display: none !important; }` so we also need the `!important` here to be able to override the default hidden behavior on the sphinx rendered scikit-learn.org. See: https://github.com/scikit-learn/scikit-learn/issues/21755 */display: inline-block !important;position: relative;}#sk-container-id-1 div.sk-text-repr-fallback {display: none;}</style><div id=\"sk-container-id-1\" class=\"sk-top-container\"><div class=\"sk-text-repr-fallback\"><pre>LogisticRegression()</pre><b>In a Jupyter environment, please rerun this cell to show the HTML representation or trust the notebook. <br />On GitHub, the HTML representation is unable to render, please try loading this page with nbviewer.org.</b></div><div class=\"sk-container\" hidden><div class=\"sk-item\"><div class=\"sk-estimator sk-toggleable\"><input class=\"sk-toggleable__control sk-hidden--visually\" id=\"sk-estimator-id-1\" type=\"checkbox\" checked><label for=\"sk-estimator-id-1\" class=\"sk-toggleable__label sk-toggleable__label-arrow\">LogisticRegression</label><div class=\"sk-toggleable__content\"><pre>LogisticRegression()</pre></div></div></div></div></div>"
      ],
      "text/plain": [
       "LogisticRegression()"
      ]
     },
     "execution_count": 27,
     "metadata": {},
     "output_type": "execute_result"
    }
   ],
   "source": [
    "logReg.fit(x_train, y_train)"
   ]
  },
  {
   "cell_type": "code",
   "execution_count": 28,
   "id": "55137bbe",
   "metadata": {
    "execution": {
     "iopub.execute_input": "2023-11-05T14:05:49.856132Z",
     "iopub.status.busy": "2023-11-05T14:05:49.855662Z",
     "iopub.status.idle": "2023-11-05T14:05:49.868009Z",
     "shell.execute_reply": "2023-11-05T14:05:49.866769Z"
    },
    "papermill": {
     "duration": 0.033704,
     "end_time": "2023-11-05T14:05:49.870457",
     "exception": false,
     "start_time": "2023-11-05T14:05:49.836753",
     "status": "completed"
    },
    "tags": []
   },
   "outputs": [
    {
     "data": {
      "text/plain": [
       "0.7792207792207793"
      ]
     },
     "execution_count": 28,
     "metadata": {},
     "output_type": "execute_result"
    }
   ],
   "source": [
    "logReg.score(x_test, y_test)"
   ]
  },
  {
   "cell_type": "code",
   "execution_count": 29,
   "id": "7d71127e",
   "metadata": {
    "execution": {
     "iopub.execute_input": "2023-11-05T14:05:49.905879Z",
     "iopub.status.busy": "2023-11-05T14:05:49.905467Z",
     "iopub.status.idle": "2023-11-05T14:05:49.911054Z",
     "shell.execute_reply": "2023-11-05T14:05:49.909766Z"
    },
    "papermill": {
     "duration": 0.026403,
     "end_time": "2023-11-05T14:05:49.913537",
     "exception": false,
     "start_time": "2023-11-05T14:05:49.887134",
     "status": "completed"
    },
    "tags": []
   },
   "outputs": [],
   "source": [
    "from sklearn.metrics import confusion_matrix, classification_report"
   ]
  },
  {
   "cell_type": "code",
   "execution_count": 30,
   "id": "8bf6eb85",
   "metadata": {
    "execution": {
     "iopub.execute_input": "2023-11-05T14:05:49.949037Z",
     "iopub.status.busy": "2023-11-05T14:05:49.948654Z",
     "iopub.status.idle": "2023-11-05T14:05:49.956156Z",
     "shell.execute_reply": "2023-11-05T14:05:49.955009Z"
    },
    "papermill": {
     "duration": 0.028159,
     "end_time": "2023-11-05T14:05:49.958873",
     "exception": false,
     "start_time": "2023-11-05T14:05:49.930714",
     "status": "completed"
    },
    "tags": []
   },
   "outputs": [],
   "source": [
    "predictions = logReg.predict(x_test)"
   ]
  },
  {
   "cell_type": "code",
   "execution_count": 31,
   "id": "7b5e40a6",
   "metadata": {
    "execution": {
     "iopub.execute_input": "2023-11-05T14:05:49.995709Z",
     "iopub.status.busy": "2023-11-05T14:05:49.994253Z",
     "iopub.status.idle": "2023-11-05T14:05:50.001854Z",
     "shell.execute_reply": "2023-11-05T14:05:50.000941Z"
    },
    "papermill": {
     "duration": 0.02816,
     "end_time": "2023-11-05T14:05:50.004340",
     "exception": false,
     "start_time": "2023-11-05T14:05:49.976180",
     "status": "completed"
    },
    "tags": []
   },
   "outputs": [],
   "source": [
    "cm = confusion_matrix(y_test,predictions)"
   ]
  },
  {
   "cell_type": "code",
   "execution_count": 32,
   "id": "6051fca5",
   "metadata": {
    "execution": {
     "iopub.execute_input": "2023-11-05T14:05:50.041920Z",
     "iopub.status.busy": "2023-11-05T14:05:50.041491Z",
     "iopub.status.idle": "2023-11-05T14:05:50.048383Z",
     "shell.execute_reply": "2023-11-05T14:05:50.047320Z"
    },
    "papermill": {
     "duration": 0.028427,
     "end_time": "2023-11-05T14:05:50.050637",
     "exception": false,
     "start_time": "2023-11-05T14:05:50.022210",
     "status": "completed"
    },
    "tags": []
   },
   "outputs": [
    {
     "data": {
      "text/plain": [
       "array([[83, 16],\n",
       "       [18, 37]])"
      ]
     },
     "execution_count": 32,
     "metadata": {},
     "output_type": "execute_result"
    }
   ],
   "source": [
    "cm"
   ]
  },
  {
   "cell_type": "code",
   "execution_count": 33,
   "id": "6f64d6a0",
   "metadata": {
    "execution": {
     "iopub.execute_input": "2023-11-05T14:05:50.088584Z",
     "iopub.status.busy": "2023-11-05T14:05:50.087960Z",
     "iopub.status.idle": "2023-11-05T14:05:50.410992Z",
     "shell.execute_reply": "2023-11-05T14:05:50.409622Z"
    },
    "papermill": {
     "duration": 0.345615,
     "end_time": "2023-11-05T14:05:50.413645",
     "exception": false,
     "start_time": "2023-11-05T14:05:50.068030",
     "status": "completed"
    },
    "tags": []
   },
   "outputs": [
    {
     "data": {
      "text/plain": [
       "<Axes: >"
      ]
     },
     "execution_count": 33,
     "metadata": {},
     "output_type": "execute_result"
    },
    {
     "data": {
      "image/png": "[encoded data removed]",
      "text/plain": [
       "<Figure size 640x480 with 2 Axes>"
      ]
     },
     "metadata": {},
     "output_type": "display_data"
    }
   ],
   "source": [
    "sns.heatmap(cm, annot = True)"
   ]
  },
  {
   "cell_type": "code",
   "execution_count": 34,
   "id": "bbd866b8",
   "metadata": {
    "execution": {
     "iopub.execute_input": "2023-11-05T14:05:50.451592Z",
     "iopub.status.busy": "2023-11-05T14:05:50.451182Z",
     "iopub.status.idle": "2023-11-05T14:05:50.466883Z",
     "shell.execute_reply": "2023-11-05T14:05:50.465145Z"
    },
    "papermill": {
     "duration": 0.037942,
     "end_time": "2023-11-05T14:05:50.469538",
     "exception": false,
     "start_time": "2023-11-05T14:05:50.431596",
     "status": "completed"
    },
    "tags": []
   },
   "outputs": [
    {
     "name": "stdout",
     "output_type": "stream",
     "text": [
      "              precision    recall  f1-score   support\n",
      "\n",
      "           0       0.82      0.84      0.83        99\n",
      "           1       0.70      0.67      0.69        55\n",
      "\n",
      "    accuracy                           0.78       154\n",
      "   macro avg       0.76      0.76      0.76       154\n",
      "weighted avg       0.78      0.78      0.78       154\n",
      "\n"
     ]
    }
   ],
   "source": [
    "print(classification_report(y_test,predictions))"
   ]
  }
 ],
 "metadata": {
  "kernelspec": {
   "display_name": "Python 3",
   "language": "python",
   "name": "python3"
  },
  "language_info": {
   "codemirror_mode": {
    "name": "ipython",
    "version": 3
   },
   "file_extension": ".py",
   "mimetype": "text/x-python",
   "name": "python",
   "nbconvert_exporter": "python",
   "pygments_lexer": "ipython3",
   "version": "3.10.12"
  },
  "papermill": {
   "default_parameters": {},
   "duration": 10.749903,
   "end_time": "2023-11-05T14:05:51.411307",
   "environment_variables": {},
   "exception": null,
   "input_path": "__notebook__.ipynb",
   "output_path": "__notebook__.ipynb",
   "parameters": {},
   "start_time": "2023-11-05T14:05:40.661404",
   "version": "2.4.0"
  }
 },
 "nbformat": 4,
 "nbformat_minor": 5
}
