{
 "cells": [
  {
   "cell_type": "code",
   "execution_count": 1,
   "id": "70635285",
   "metadata": {
    "_cell_guid": "b1076dfc-b9ad-4769-8c92-a6c4dae69d19",
    "_uuid": "8f2839f25d086af736a60e9eeb907d3b93b6e0e5",
    "execution": {
     "iopub.execute_input": "2023-09-01T11:04:39.728442Z",
     "iopub.status.busy": "2023-09-01T11:04:39.727958Z",
     "iopub.status.idle": "2023-09-01T11:04:39.739981Z",
     "shell.execute_reply": "2023-09-01T11:04:39.739042Z"
    },
    "papermill": {
     "duration": 0.020532,
     "end_time": "2023-09-01T11:04:39.742307",
     "exception": false,
     "start_time": "2023-09-01T11:04:39.721775",
     "status": "completed"
    },
    "tags": []
   },
   "outputs": [],
   "source": [
    "import numpy as np"
   ]
  },
  {
   "cell_type": "markdown",
   "id": "f8bf77c5",
   "metadata": {
    "papermill": {
     "duration": 0.003136,
     "end_time": "2023-09-01T11:04:39.749533",
     "exception": false,
     "start_time": "2023-09-01T11:04:39.746397",
     "status": "completed"
    },
    "tags": []
   },
   "source": [
    "## "
   ]
  }
 ],
 "kernelspec": {
  "display_name": "Python 3",
  "language": "python",
  "name": "python3"
 },
 "language_info": {
  "codemirror_mode": {
   "name": "ipython",
   "version": 3
  },
  "file_extension": ".py",
  "mimetype": "text/x-python",
  "name": "python",
  "nbconvert_exporter": "python",
  "pygments_lexer": "ipython3",
  "version": "3.6.4"
 },
 "metadata": {
  "kernelspec": {
   "display_name": "Python 3",
   "language": "python",
   "name": "python3"
  },
  "language_info": {
   "codemirror_mode": {
    "name": "ipython",
    "version": 3
   },
   "file_extension": ".py",
   "mimetype": "text/x-python",
   "name": "python",
   "nbconvert_exporter": "python",
   "pygments_lexer": "ipython3",
   "version": "3.10.12"
  },
  "papermill": {
   "default_parameters": {},
   "duration": 4.39923,
   "end_time": "2023-09-01T11:04:40.175100",
   "environment_variables": {},
   "exception": null,
   "input_path": "__notebook__.ipynb",
   "output_path": "__notebook__.ipynb",
   "parameters": {},
   "start_time": "2023-09-01T11:04:35.775870",
   "version": "2.4.0"
  }
 },
 "nbformat": 4,
 "nbformat_minor": 5
}
