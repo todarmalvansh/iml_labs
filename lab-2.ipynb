{
 "cells": [
  {
   "cell_type": "markdown",
   "id": "27f566a4",
   "metadata": {
    "papermill": {
     "duration": 0.003293,
     "end_time": "2023-09-01T11:18:04.066427",
     "exception": false,
     "start_time": "2023-09-01T11:18:04.063134",
     "status": "completed"
    },
    "tags": []
   },
   "source": [
    " **** -->lab2  Connection of github and Kaggle "
   ]
  },
  {
   "cell_type": "code",
   "execution_count": 1,
   "id": "d2392802",
   "metadata": {
    "_cell_guid": "b1076dfc-b9ad-4769-8c92-a6c4dae69d19",
    "_uuid": "8f2839f25d086af736a60e9eeb907d3b93b6e0e5",
    "execution": {
     "iopub.execute_input": "2023-09-01T11:18:04.073876Z",
     "iopub.status.busy": "2023-09-01T11:18:04.073479Z",
     "iopub.status.idle": "2023-09-01T11:18:04.081735Z",
     "shell.execute_reply": "2023-09-01T11:18:04.080789Z"
    },
    "papermill": {
     "duration": 0.014271,
     "end_time": "2023-09-01T11:18:04.083560",
     "exception": false,
     "start_time": "2023-09-01T11:18:04.069289",
     "status": "completed"
    },
    "tags": []
   },
   "outputs": [],
   "source": [
    "import numpy as np"
   ]
  },
  {
   "cell_type": "code",
   "execution_count": 2,
   "id": "564e2507",
   "metadata": {
    "execution": {
     "iopub.execute_input": "2023-09-01T11:18:04.090662Z",
     "iopub.status.busy": "2023-09-01T11:18:04.090344Z",
     "iopub.status.idle": "2023-09-01T11:18:04.096922Z",
     "shell.execute_reply": "2023-09-01T11:18:04.095388Z"
    },
    "papermill": {
     "duration": 0.012381,
     "end_time": "2023-09-01T11:18:04.098862",
     "exception": false,
     "start_time": "2023-09-01T11:18:04.086481",
     "status": "completed"
    },
    "tags": []
   },
   "outputs": [
    {
     "name": "stdout",
     "output_type": "stream",
     "text": [
      "a:\n",
      " [1 2 3]\n"
     ]
    }
   ],
   "source": [
    "a = np.array([1, 2, 3])\n",
    "print(\"a:\\n\", a)"
   ]
  },
  {
   "cell_type": "code",
   "execution_count": 3,
   "id": "6a72944e",
   "metadata": {
    "execution": {
     "iopub.execute_input": "2023-09-01T11:18:04.108005Z",
     "iopub.status.busy": "2023-09-01T11:18:04.107264Z",
     "iopub.status.idle": "2023-09-01T11:18:04.115158Z",
     "shell.execute_reply": "2023-09-01T11:18:04.113881Z"
    },
    "papermill": {
     "duration": 0.015075,
     "end_time": "2023-09-01T11:18:04.117418",
     "exception": false,
     "start_time": "2023-09-01T11:18:04.102343",
     "status": "completed"
    },
    "tags": []
   },
   "outputs": [
    {
     "name": "stdout",
     "output_type": "stream",
     "text": [
      "a1: \n",
      " [1 2 3]\n",
      "\n",
      "Number of axes/dimensions in the array:  1\n",
      "Shape of the array:  (3,)\n",
      "Size of the array/Number of Elements in the:  3\n",
      "Type of the elements in the array:  int64\n",
      "Size of the elements in the array:  8\n",
      "Buffer containing the array:  <memory at 0x7e2387323dc0>\n"
     ]
    }
   ],
   "source": [
    "a1 = np.array([1, 2, 3])\n",
    "print(\"a1: \\n\", a1)\n",
    "\n",
    "print(\"\\nNumber of axes/dimensions in the array: \", a1.ndim)\n",
    "print(\"Shape of the array: \", a1.shape)\n",
    "print(\"Size of the array/Number of Elements in the: \", a1.size)\n",
    "print(\"Type of the elements in the array: \", a1.dtype)\n",
    "print(\"Size of the elements in the array: \", a1.itemsize)\n",
    "print(\"Buffer containing the array: \", a1.data)"
   ]
  }
 ],
 "kernelspec": {
  "display_name": "Python 3",
  "language": "python",
  "name": "python3"
 },
 "language_info": {
  "codemirror_mode": {
   "name": "ipython",
   "version": 3
  },
  "file_extension": ".py",
  "mimetype": "text/x-python",
  "name": "python",
  "nbconvert_exporter": "python",
  "pygments_lexer": "ipython3",
  "version": "3.6.4"
 },
 "metadata": {
  "kernelspec": {
   "display_name": "Python 3",
   "language": "python",
   "name": "python3"
  },
  "language_info": {
   "codemirror_mode": {
    "name": "ipython",
    "version": 3
   },
   "file_extension": ".py",
   "mimetype": "text/x-python",
   "name": "python",
   "nbconvert_exporter": "python",
   "pygments_lexer": "ipython3",
   "version": "3.10.12"
  },
  "papermill": {
   "default_parameters": {},
   "duration": 3.18227,
   "end_time": "2023-09-01T11:18:04.440170",
   "environment_variables": {},
   "exception": null,
   "input_path": "__notebook__.ipynb",
   "output_path": "__notebook__.ipynb",
   "parameters": {},
   "start_time": "2023-09-01T11:18:01.257900",
   "version": "2.4.0"
  }
 },
 "nbformat": 4,
 "nbformat_minor": 5
}
