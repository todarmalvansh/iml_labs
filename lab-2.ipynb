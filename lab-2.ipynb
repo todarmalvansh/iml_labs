{
 "cells": [
  {
   "cell_type": "markdown",
   "id": "cfb7fd4f",
   "metadata": {
    "papermill": {
     "duration": 0.006218,
     "end_time": "2023-09-01T11:31:06.209288",
     "exception": false,
     "start_time": "2023-09-01T11:31:06.203070",
     "status": "completed"
    },
    "tags": []
   },
   "source": [
    " **** -->lab2  Connection of github and Kaggle "
   ]
  },
  {
   "cell_type": "code",
   "execution_count": 1,
   "id": "c27ef174",
   "metadata": {
    "_cell_guid": "b1076dfc-b9ad-4769-8c92-a6c4dae69d19",
    "_uuid": "8f2839f25d086af736a60e9eeb907d3b93b6e0e5",
    "execution": {
     "iopub.execute_input": "2023-09-01T11:31:06.222778Z",
     "iopub.status.busy": "2023-09-01T11:31:06.222182Z",
     "iopub.status.idle": "2023-09-01T11:31:06.235207Z",
     "shell.execute_reply": "2023-09-01T11:31:06.233902Z"
    },
    "papermill": {
     "duration": 0.023038,
     "end_time": "2023-09-01T11:31:06.238010",
     "exception": false,
     "start_time": "2023-09-01T11:31:06.214972",
     "status": "completed"
    },
    "tags": []
   },
   "outputs": [],
   "source": [
    "import numpy as np"
   ]
  },
  {
   "cell_type": "code",
   "execution_count": 2,
   "id": "ebf35710",
   "metadata": {
    "execution": {
     "iopub.execute_input": "2023-09-01T11:31:06.250826Z",
     "iopub.status.busy": "2023-09-01T11:31:06.250393Z",
     "iopub.status.idle": "2023-09-01T11:31:06.258235Z",
     "shell.execute_reply": "2023-09-01T11:31:06.257131Z"
    },
    "papermill": {
     "duration": 0.017448,
     "end_time": "2023-09-01T11:31:06.260902",
     "exception": false,
     "start_time": "2023-09-01T11:31:06.243454",
     "status": "completed"
    },
    "tags": []
   },
   "outputs": [
    {
     "name": "stdout",
     "output_type": "stream",
     "text": [
      "a:\n",
      " [1 2 3]\n"
     ]
    }
   ],
   "source": [
    "a = np.array([1, 2, 3])\n",
    "print(\"a:\\n\", a)"
   ]
  },
  {
   "cell_type": "code",
   "execution_count": 3,
   "id": "bfa98d05",
   "metadata": {
    "execution": {
     "iopub.execute_input": "2023-09-01T11:31:06.274283Z",
     "iopub.status.busy": "2023-09-01T11:31:06.273864Z",
     "iopub.status.idle": "2023-09-01T11:31:06.281283Z",
     "shell.execute_reply": "2023-09-01T11:31:06.280383Z"
    },
    "papermill": {
     "duration": 0.017433,
     "end_time": "2023-09-01T11:31:06.283952",
     "exception": false,
     "start_time": "2023-09-01T11:31:06.266519",
     "status": "completed"
    },
    "tags": []
   },
   "outputs": [
    {
     "name": "stdout",
     "output_type": "stream",
     "text": [
      "a1: \n",
      " [1 2 3]\n",
      "\n",
      "Number of axes/dimensions in the array:  1\n",
      "Shape of the array:  (3,)\n",
      "Size of the array/Number of Elements in the:  3\n",
      "Type of the elements in the array:  int64\n",
      "Size of the elements in the array:  8\n",
      "Buffer containing the array:  <memory at 0x7f5a1573fdc0>\n"
     ]
    }
   ],
   "source": [
    "a1 = np.array([1, 2, 3])\n",
    "print(\"a1: \\n\", a1)\n",
    "\n",
    "print(\"\\nNumber of axes/dimensions in the array: \", a1.ndim)\n",
    "print(\"Shape of the array: \", a1.shape)\n",
    "print(\"Size of the array/Number of Elements in the: \", a1.size)\n",
    "print(\"Type of the elements in the array: \", a1.dtype)\n",
    "print(\"Size of the elements in the array: \", a1.itemsize)\n",
    "print(\"Buffer containing the array: \", a1.data)"
   ]
  },
  {
   "cell_type": "markdown",
   "id": "43d57e3b",
   "metadata": {
    "papermill": {
     "duration": 0.005308,
     "end_time": "2023-09-01T11:31:06.294875",
     "exception": false,
     "start_time": "2023-09-01T11:31:06.289567",
     "status": "completed"
    },
    "tags": []
   },
   "source": [
    "**1) creating one dimensions array from list**"
   ]
  },
  {
   "cell_type": "code",
   "execution_count": 4,
   "id": "c57763b5",
   "metadata": {
    "execution": {
     "iopub.execute_input": "2023-09-01T11:31:06.308117Z",
     "iopub.status.busy": "2023-09-01T11:31:06.307700Z",
     "iopub.status.idle": "2023-09-01T11:31:06.314042Z",
     "shell.execute_reply": "2023-09-01T11:31:06.312846Z"
    },
    "papermill": {
     "duration": 0.016106,
     "end_time": "2023-09-01T11:31:06.316583",
     "exception": false,
     "start_time": "2023-09-01T11:31:06.300477",
     "status": "completed"
    },
    "tags": []
   },
   "outputs": [
    {
     "name": "stdout",
     "output_type": "stream",
     "text": [
      "[1 2 3 4 5]\n"
     ]
    }
   ],
   "source": [
    "array =np.array([1,2,3,4,5])\n",
    "print(array)"
   ]
  },
  {
   "cell_type": "markdown",
   "id": "2fb85f01",
   "metadata": {
    "papermill": {
     "duration": 0.005364,
     "end_time": "2023-09-01T11:31:06.327960",
     "exception": false,
     "start_time": "2023-09-01T11:31:06.322596",
     "status": "completed"
    },
    "tags": []
   },
   "source": [
    "**2) to create a 3x3 matrix with values ranging from2 to 10**"
   ]
  },
  {
   "cell_type": "code",
   "execution_count": 5,
   "id": "90016e12",
   "metadata": {
    "execution": {
     "iopub.execute_input": "2023-09-01T11:31:06.341360Z",
     "iopub.status.busy": "2023-09-01T11:31:06.340941Z",
     "iopub.status.idle": "2023-09-01T11:31:06.347337Z",
     "shell.execute_reply": "2023-09-01T11:31:06.346191Z"
    },
    "papermill": {
     "duration": 0.015933,
     "end_time": "2023-09-01T11:31:06.349810",
     "exception": false,
     "start_time": "2023-09-01T11:31:06.333877",
     "status": "completed"
    },
    "tags": []
   },
   "outputs": [
    {
     "name": "stdout",
     "output_type": "stream",
     "text": [
      "[[ 2  3  4]\n",
      " [ 5  6  7]\n",
      " [ 8  9 10]]\n"
     ]
    }
   ],
   "source": [
    "array =np.array([[2,3,4],[5,6,7],[8,9,10]])\n",
    "print(array)"
   ]
  },
  {
   "cell_type": "code",
   "execution_count": null,
   "id": "076b9417",
   "metadata": {
    "papermill": {
     "duration": 0.00546,
     "end_time": "2023-09-01T11:31:06.361217",
     "exception": false,
     "start_time": "2023-09-01T11:31:06.355757",
     "status": "completed"
    },
    "tags": []
   },
   "outputs": [],
   "source": []
  }
 ],
 "kernelspec": {
  "display_name": "Python 3",
  "language": "python",
  "name": "python3"
 },
 "language_info": {
  "codemirror_mode": {
   "name": "ipython",
   "version": 3
  },
  "file_extension": ".py",
  "mimetype": "text/x-python",
  "name": "python",
  "nbconvert_exporter": "python",
  "pygments_lexer": "ipython3",
  "version": "3.6.4"
 },
 "metadata": {
  "kernelspec": {
   "display_name": "Python 3",
   "language": "python",
   "name": "python3"
  },
  "language_info": {
   "codemirror_mode": {
    "name": "ipython",
    "version": 3
   },
   "file_extension": ".py",
   "mimetype": "text/x-python",
   "name": "python",
   "nbconvert_exporter": "python",
   "pygments_lexer": "ipython3",
   "version": "3.10.12"
  },
  "papermill": {
   "default_parameters": {},
   "duration": 4.42377,
   "end_time": "2023-09-01T11:31:06.787439",
   "environment_variables": {},
   "exception": null,
   "input_path": "__notebook__.ipynb",
   "output_path": "__notebook__.ipynb",
   "parameters": {},
   "start_time": "2023-09-01T11:31:02.363669",
   "version": "2.4.0"
  }
 },
 "nbformat": 4,
 "nbformat_minor": 5
}
