{
 "cells": [
  {
   "cell_type": "markdown",
   "id": "f9d109df",
   "metadata": {
    "papermill": {
     "duration": 0.007726,
     "end_time": "2023-09-01T11:47:19.726232",
     "exception": false,
     "start_time": "2023-09-01T11:47:19.718506",
     "status": "completed"
    },
    "tags": []
   },
   "source": [
    " **** -->lab2  Connection of github and Kaggle "
   ]
  },
  {
   "cell_type": "code",
   "execution_count": 1,
   "id": "f0525722",
   "metadata": {
    "_cell_guid": "b1076dfc-b9ad-4769-8c92-a6c4dae69d19",
    "_uuid": "8f2839f25d086af736a60e9eeb907d3b93b6e0e5",
    "execution": {
     "iopub.execute_input": "2023-09-01T11:47:19.743967Z",
     "iopub.status.busy": "2023-09-01T11:47:19.743469Z",
     "iopub.status.idle": "2023-09-01T11:47:19.757790Z",
     "shell.execute_reply": "2023-09-01T11:47:19.756586Z"
    },
    "papermill": {
     "duration": 0.026744,
     "end_time": "2023-09-01T11:47:19.761230",
     "exception": false,
     "start_time": "2023-09-01T11:47:19.734486",
     "status": "completed"
    },
    "tags": []
   },
   "outputs": [],
   "source": [
    "import numpy as np"
   ]
  },
  {
   "cell_type": "code",
   "execution_count": 2,
   "id": "0c18eeab",
   "metadata": {
    "execution": {
     "iopub.execute_input": "2023-09-01T11:47:19.778652Z",
     "iopub.status.busy": "2023-09-01T11:47:19.777778Z",
     "iopub.status.idle": "2023-09-01T11:47:19.786477Z",
     "shell.execute_reply": "2023-09-01T11:47:19.785347Z"
    },
    "papermill": {
     "duration": 0.020529,
     "end_time": "2023-09-01T11:47:19.789170",
     "exception": false,
     "start_time": "2023-09-01T11:47:19.768641",
     "status": "completed"
    },
    "tags": []
   },
   "outputs": [
    {
     "name": "stdout",
     "output_type": "stream",
     "text": [
      "a:\n",
      " [1 2 3]\n"
     ]
    }
   ],
   "source": [
    "a = np.array([1, 2, 3])\n",
    "print(\"a:\\n\", a)"
   ]
  },
  {
   "cell_type": "code",
   "execution_count": 3,
   "id": "2e5fec2f",
   "metadata": {
    "execution": {
     "iopub.execute_input": "2023-09-01T11:47:19.808030Z",
     "iopub.status.busy": "2023-09-01T11:47:19.807073Z",
     "iopub.status.idle": "2023-09-01T11:47:19.816010Z",
     "shell.execute_reply": "2023-09-01T11:47:19.814719Z"
    },
    "papermill": {
     "duration": 0.021509,
     "end_time": "2023-09-01T11:47:19.818563",
     "exception": false,
     "start_time": "2023-09-01T11:47:19.797054",
     "status": "completed"
    },
    "tags": []
   },
   "outputs": [
    {
     "name": "stdout",
     "output_type": "stream",
     "text": [
      "a1: \n",
      " [1 2 3]\n",
      "\n",
      "Number of axes/dimensions in the array:  1\n",
      "Shape of the array:  (3,)\n",
      "Size of the array/Number of Elements in the:  3\n",
      "Type of the elements in the array:  int64\n",
      "Size of the elements in the array:  8\n",
      "Buffer containing the array:  <memory at 0x7be091537dc0>\n"
     ]
    }
   ],
   "source": [
    "a1 = np.array([1, 2, 3])\n",
    "print(\"a1: \\n\", a1)\n",
    "\n",
    "print(\"\\nNumber of axes/dimensions in the array: \", a1.ndim)\n",
    "print(\"Shape of the array: \", a1.shape)\n",
    "print(\"Size of the array/Number of Elements in the: \", a1.size)\n",
    "print(\"Type of the elements in the array: \", a1.dtype)\n",
    "print(\"Size of the elements in the array: \", a1.itemsize)\n",
    "print(\"Buffer containing the array: \", a1.data)"
   ]
  },
  {
   "cell_type": "markdown",
   "id": "91645a94",
   "metadata": {
    "papermill": {
     "duration": 0.006604,
     "end_time": "2023-09-01T11:47:19.832491",
     "exception": false,
     "start_time": "2023-09-01T11:47:19.825887",
     "status": "completed"
    },
    "tags": []
   },
   "source": [
    "**1) creating one dimensions array from list**"
   ]
  },
  {
   "cell_type": "code",
   "execution_count": 4,
   "id": "4998a2a8",
   "metadata": {
    "execution": {
     "iopub.execute_input": "2023-09-01T11:47:19.849768Z",
     "iopub.status.busy": "2023-09-01T11:47:19.849287Z",
     "iopub.status.idle": "2023-09-01T11:47:19.856741Z",
     "shell.execute_reply": "2023-09-01T11:47:19.855284Z"
    },
    "papermill": {
     "duration": 0.020266,
     "end_time": "2023-09-01T11:47:19.860023",
     "exception": false,
     "start_time": "2023-09-01T11:47:19.839757",
     "status": "completed"
    },
    "tags": []
   },
   "outputs": [
    {
     "name": "stdout",
     "output_type": "stream",
     "text": [
      "[1 2 3 4 5]\n"
     ]
    }
   ],
   "source": [
    "array =np.array([1,2,3,4,5])\n",
    "print(array)"
   ]
  },
  {
   "cell_type": "markdown",
   "id": "6ef40e87",
   "metadata": {
    "papermill": {
     "duration": 0.007468,
     "end_time": "2023-09-01T11:47:19.874372",
     "exception": false,
     "start_time": "2023-09-01T11:47:19.866904",
     "status": "completed"
    },
    "tags": []
   },
   "source": [
    "**2) to create a 3x3 matrix with values ranging from2 to 10**"
   ]
  },
  {
   "cell_type": "code",
   "execution_count": 5,
   "id": "07ad41d9",
   "metadata": {
    "execution": {
     "iopub.execute_input": "2023-09-01T11:47:19.893225Z",
     "iopub.status.busy": "2023-09-01T11:47:19.892035Z",
     "iopub.status.idle": "2023-09-01T11:47:19.899977Z",
     "shell.execute_reply": "2023-09-01T11:47:19.898095Z"
    },
    "papermill": {
     "duration": 0.020497,
     "end_time": "2023-09-01T11:47:19.902584",
     "exception": false,
     "start_time": "2023-09-01T11:47:19.882087",
     "status": "completed"
    },
    "tags": []
   },
   "outputs": [
    {
     "name": "stdout",
     "output_type": "stream",
     "text": [
      "[[ 2  3  4]\n",
      " [ 5  6  7]\n",
      " [ 8  9 10]]\n"
     ]
    }
   ],
   "source": [
    "array =np.array([[2,3,4],[5,6,7],[8,9,10]])\n",
    "print(array)"
   ]
  },
  {
   "cell_type": "markdown",
   "id": "62eaf553",
   "metadata": {
    "papermill": {
     "duration": 0.006771,
     "end_time": "2023-09-01T11:47:19.916697",
     "exception": false,
     "start_time": "2023-09-01T11:47:19.909926",
     "status": "completed"
    },
    "tags": []
   },
   "source": [
    " **3) to append values at the end of an array**"
   ]
  },
  {
   "cell_type": "code",
   "execution_count": 6,
   "id": "d22b14de",
   "metadata": {
    "execution": {
     "iopub.execute_input": "2023-09-01T11:47:19.934085Z",
     "iopub.status.busy": "2023-09-01T11:47:19.932647Z",
     "iopub.status.idle": "2023-09-01T11:47:19.940123Z",
     "shell.execute_reply": "2023-09-01T11:47:19.939212Z"
    },
    "papermill": {
     "duration": 0.018827,
     "end_time": "2023-09-01T11:47:19.942550",
     "exception": false,
     "start_time": "2023-09-01T11:47:19.923723",
     "status": "completed"
    },
    "tags": []
   },
   "outputs": [
    {
     "name": "stdout",
     "output_type": "stream",
     "text": [
      "[1 2 3 4 5]\n",
      "[1 2 3 4 5 6 7 8]\n"
     ]
    }
   ],
   "source": [
    "array = np.array([1,2,3,4,5])\n",
    "print(array)\n",
    "array = np.append(array,[6,7,8])\n",
    "print(array)"
   ]
  },
  {
   "cell_type": "markdown",
   "id": "c1ad1bb8",
   "metadata": {
    "papermill": {
     "duration": 0.007153,
     "end_time": "2023-09-01T11:47:19.957433",
     "exception": false,
     "start_time": "2023-09-01T11:47:19.950280",
     "status": "completed"
    },
    "tags": []
   },
   "source": [
    "**4) to create another shape from an array without changing its data (3x2 to    2x3)**"
   ]
  },
  {
   "cell_type": "code",
   "execution_count": 7,
   "id": "7e746b9b",
   "metadata": {
    "execution": {
     "iopub.execute_input": "2023-09-01T11:47:19.975614Z",
     "iopub.status.busy": "2023-09-01T11:47:19.975122Z",
     "iopub.status.idle": "2023-09-01T11:47:19.984549Z",
     "shell.execute_reply": "2023-09-01T11:47:19.982953Z"
    },
    "papermill": {
     "duration": 0.022989,
     "end_time": "2023-09-01T11:47:19.988458",
     "exception": false,
     "start_time": "2023-09-01T11:47:19.965469",
     "status": "completed"
    },
    "tags": []
   },
   "outputs": [
    {
     "name": "stdout",
     "output_type": "stream",
     "text": [
      "Matrix is 3x2 \n",
      " [[1 2 3]\n",
      " [4 5 6]]\n",
      "Matrix is 2x3 \n",
      " [[1 2]\n",
      " [3 4]\n",
      " [5 6]]\n"
     ]
    }
   ],
   "source": [
    "array = np.array([[1,2,3],[4,5,6]])\n",
    "print(\"Matrix is 3x2 \\n\",array)\n",
    "array = np.array([[1,2],[3,4],[5,6]])\n",
    "print(\"Matrix is 2x3 \\n\",array)"
   ]
  },
  {
   "cell_type": "code",
   "execution_count": null,
   "id": "2aae52ae",
   "metadata": {
    "papermill": {
     "duration": 0.009396,
     "end_time": "2023-09-01T11:47:20.005707",
     "exception": false,
     "start_time": "2023-09-01T11:47:19.996311",
     "status": "completed"
    },
    "tags": []
   },
   "outputs": [],
   "source": []
  }
 ],
 "kernelspec": {
  "display_name": "Python 3",
  "language": "python",
  "name": "python3"
 },
 "language_info": {
  "codemirror_mode": {
   "name": "ipython",
   "version": 3
  },
  "file_extension": ".py",
  "mimetype": "text/x-python",
  "name": "python",
  "nbconvert_exporter": "python",
  "pygments_lexer": "ipython3",
  "version": "3.6.4"
 },
 "metadata": {
  "kernelspec": {
   "display_name": "Python 3",
   "language": "python",
   "name": "python3"
  },
  "language_info": {
   "codemirror_mode": {
    "name": "ipython",
    "version": 3
   },
   "file_extension": ".py",
   "mimetype": "text/x-python",
   "name": "python",
   "nbconvert_exporter": "python",
   "pygments_lexer": "ipython3",
   "version": "3.10.12"
  },
  "papermill": {
   "default_parameters": {},
   "duration": 4.890028,
   "end_time": "2023-09-01T11:47:20.536582",
   "environment_variables": {},
   "exception": null,
   "input_path": "__notebook__.ipynb",
   "output_path": "__notebook__.ipynb",
   "parameters": {},
   "start_time": "2023-09-01T11:47:15.646554",
   "version": "2.4.0"
  }
 },
 "nbformat": 4,
 "nbformat_minor": 5
}
